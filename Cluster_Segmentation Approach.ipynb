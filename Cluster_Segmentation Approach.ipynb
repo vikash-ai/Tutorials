{
 "cells": [
  {
   "cell_type": "markdown",
   "metadata": {},
   "source": [
    "#                                           K-Means Clustering"
   ]
  },
  {
   "cell_type": "markdown",
   "metadata": {},
   "source": [
    "## Problem Statement"
   ]
  },
  {
   "cell_type": "markdown",
   "metadata": {},
   "source": [
    "*A key challenge for Mobile App businesses is to analyze the trend in the market to increase their sales/usage. The trend can be easily observed if the companies can group the customers based on their activity on the network.We have access to user's demographic characteristics, their app usage, geolocation, and mobile device properties. This grouping can be done by applying different criteria like App installed status, Actively using or not, phone brand compability and so on. The machine learning clustering algorithms can provide an analytical method to cluster user segment with similar interests/habits.This will help App/mobile provider better understand and interact with their subscriber."
   ]
  },
  {
   "cell_type": "markdown",
   "metadata": {},
   "source": [
    "### Import Important library and functions"
   ]
  },
  {
   "cell_type": "code",
   "execution_count": 1,
   "metadata": {},
   "outputs": [],
   "source": [
    "# 'os' module provides functions for interacting with the operating system\n",
    "import os"
   ]
  },
  {
   "cell_type": "code",
   "execution_count": null,
   "metadata": {},
   "outputs": [],
   "source": [
    "#Set up our working directory\n",
    "os.chdir('C:\\Case Study\\china-mobile-user-gemographics')\n",
    "os.getcwd()"
   ]
  },
  {
   "cell_type": "code",
   "execution_count": 3,
   "metadata": {},
   "outputs": [],
   "source": [
    "import numpy as np\n",
    "# 'Pandas' is used for data manipulation and analysis\n",
    "import pandas as pd\n",
    "# 'Seaborn' is based on matplotlib; used for plotting statistical graphics\n",
    "import seaborn as sns\n",
    "from operator import add\n",
    "from scipy import sparse, io\n",
    "# 'Matplotlib' is a data visualization library for 2D and 3D plots, built on numpy\n",
    "import matplotlib.pyplot as plt\n",
    "from sklearn.preprocessing import LabelEncoder\n",
    "# Jupyter specific plotting display function\n",
    "%matplotlib notebook\n",
    "%matplotlib inline\n",
    "# suppress display of warnings\n",
    "import warnings\n",
    "warnings.filterwarnings(\"ignore\")"
   ]
  },
  {
   "cell_type": "markdown",
   "metadata": {},
   "source": [
    "## Data Definition"
   ]
  },
  {
   "cell_type": "markdown",
   "metadata": {},
   "source": [
    "*app_events.csv- Details on App is installed and used actively or not\n",
    "app_labels.csv- Apps and their labels, the label_id can be used to join with label categories\n",
    "events.csv- Event data has an event id, location detail (lat/long), and timestamp, when the user is using an app on his device\n",
    "gender_age_train.csv- details of users age & gender\n",
    "label_categories.csv- Apps' labels and their categories\n",
    "phone_brand_device_model.csv- Device ids, brand, and models name. here the brands names are in Chinese, you can convert it in english using google for better understanding but we will not do it here. We will use this as profiling variable, not as clustering variable."
   ]
  },
  {
   "cell_type": "markdown",
   "metadata": {},
   "source": [
    "*First thing first- Let's start importing all input data & start exploring all data points"
   ]
  },
  {
   "cell_type": "markdown",
   "metadata": {},
   "source": [
    "* Download a Kaggle data set from \"https://www.kaggle.com/chinapage/china-mobile-user-gemographics\""
   ]
  },
  {
   "cell_type": "code",
   "execution_count": 4,
   "metadata": {},
   "outputs": [],
   "source": [
    "# Import app_events.csv data file\n",
    "App_event= pd.read_csv('app_events.csv',encoding='utf-8', dtype={'is_active': bool}, index_col='event_id')"
   ]
  },
  {
   "cell_type": "code",
   "execution_count": 5,
   "metadata": {},
   "outputs": [
    {
     "data": {
      "text/html": [
       "<div>\n",
       "<style scoped>\n",
       "    .dataframe tbody tr th:only-of-type {\n",
       "        vertical-align: middle;\n",
       "    }\n",
       "\n",
       "    .dataframe tbody tr th {\n",
       "        vertical-align: top;\n",
       "    }\n",
       "\n",
       "    .dataframe thead th {\n",
       "        text-align: right;\n",
       "    }\n",
       "</style>\n",
       "<table border=\"1\" class=\"dataframe\">\n",
       "  <thead>\n",
       "    <tr style=\"text-align: right;\">\n",
       "      <th></th>\n",
       "      <th>app_id</th>\n",
       "      <th>is_installed</th>\n",
       "      <th>is_active</th>\n",
       "    </tr>\n",
       "    <tr>\n",
       "      <th>event_id</th>\n",
       "      <th></th>\n",
       "      <th></th>\n",
       "      <th></th>\n",
       "    </tr>\n",
       "  </thead>\n",
       "  <tbody>\n",
       "    <tr>\n",
       "      <th>2</th>\n",
       "      <td>5927333115845830913</td>\n",
       "      <td>1</td>\n",
       "      <td>True</td>\n",
       "    </tr>\n",
       "    <tr>\n",
       "      <th>2</th>\n",
       "      <td>-5720078949152207372</td>\n",
       "      <td>1</td>\n",
       "      <td>False</td>\n",
       "    </tr>\n",
       "    <tr>\n",
       "      <th>2</th>\n",
       "      <td>-1633887856876571208</td>\n",
       "      <td>1</td>\n",
       "      <td>False</td>\n",
       "    </tr>\n",
       "    <tr>\n",
       "      <th>2</th>\n",
       "      <td>-653184325010919369</td>\n",
       "      <td>1</td>\n",
       "      <td>True</td>\n",
       "    </tr>\n",
       "    <tr>\n",
       "      <th>2</th>\n",
       "      <td>8693964245073640147</td>\n",
       "      <td>1</td>\n",
       "      <td>True</td>\n",
       "    </tr>\n",
       "  </tbody>\n",
       "</table>\n",
       "</div>"
      ],
      "text/plain": [
       "                       app_id  is_installed  is_active\n",
       "event_id                                              \n",
       "2         5927333115845830913             1       True\n",
       "2        -5720078949152207372             1      False\n",
       "2        -1633887856876571208             1      False\n",
       "2         -653184325010919369             1       True\n",
       "2         8693964245073640147             1       True"
      ]
     },
     "execution_count": 5,
     "metadata": {},
     "output_type": "execute_result"
    }
   ],
   "source": [
    "#check data points\n",
    "# head() to display top five rows\n",
    "App_event.head()\n",
    "# Note: To display more rows, example 10, use head(10)"
   ]
  },
  {
   "cell_type": "code",
   "execution_count": 6,
   "metadata": {},
   "outputs": [
    {
     "name": "stdout",
     "output_type": "stream",
     "text": [
      "32473067 Total Rows\n",
      "Unique Values:\n",
      "app_id: 19237\n",
      "is_installed: 1\n",
      "is_active: 2\n"
     ]
    }
   ],
   "source": [
    "# We have multiple tables, so seems event_id, app_id can be used for data mapping/merging. but first explore these columns\n",
    "App_event.shape\n",
    "print('{} Total Rows'.format(App_event.shape[0]))\n",
    "print('Unique Values:')\n",
    "for i in App_event.columns:\n",
    "    print('{}: {}'.format(i,App_event[i].nunique()))"
   ]
  },
  {
   "cell_type": "markdown",
   "metadata": {},
   "source": [
    "*Is_installed has one value only that means all the apps are installed in device, so this column will be of no use in our analysis"
   ]
  },
  {
   "cell_type": "code",
   "execution_count": 7,
   "metadata": {},
   "outputs": [],
   "source": [
    "# let's import all other data as well\n",
    "App_label= pd.read_csv('app_labels.csv',encoding='utf-8')\n",
    "events= pd.read_csv('events.csv',encoding='utf-8')\n",
    "Age= pd.read_csv('gender_age_train.csv',encoding='utf-8')\n",
    "label_cat= pd.read_csv('label_categories.csv',encoding='utf-8')\n",
    "phone_brand= pd.read_csv('phone_brand_device_model.csv',encoding='utf-8')"
   ]
  },
  {
   "cell_type": "code",
   "execution_count": 8,
   "metadata": {},
   "outputs": [
    {
     "data": {
      "text/html": [
       "<div>\n",
       "<style scoped>\n",
       "    .dataframe tbody tr th:only-of-type {\n",
       "        vertical-align: middle;\n",
       "    }\n",
       "\n",
       "    .dataframe tbody tr th {\n",
       "        vertical-align: top;\n",
       "    }\n",
       "\n",
       "    .dataframe thead th {\n",
       "        text-align: right;\n",
       "    }\n",
       "</style>\n",
       "<table border=\"1\" class=\"dataframe\">\n",
       "  <thead>\n",
       "    <tr style=\"text-align: right;\">\n",
       "      <th></th>\n",
       "      <th>app_id</th>\n",
       "      <th>label_id</th>\n",
       "    </tr>\n",
       "  </thead>\n",
       "  <tbody>\n",
       "    <tr>\n",
       "      <th>0</th>\n",
       "      <td>7324884708820027918</td>\n",
       "      <td>251</td>\n",
       "    </tr>\n",
       "    <tr>\n",
       "      <th>1</th>\n",
       "      <td>-4494216993218550286</td>\n",
       "      <td>251</td>\n",
       "    </tr>\n",
       "    <tr>\n",
       "      <th>2</th>\n",
       "      <td>6058196446775239644</td>\n",
       "      <td>406</td>\n",
       "    </tr>\n",
       "  </tbody>\n",
       "</table>\n",
       "</div>"
      ],
      "text/plain": [
       "                app_id  label_id\n",
       "0  7324884708820027918       251\n",
       "1 -4494216993218550286       251\n",
       "2  6058196446775239644       406"
      ]
     },
     "execution_count": 8,
     "metadata": {},
     "output_type": "execute_result"
    }
   ],
   "source": [
    "# again do all the points which we done on the first data set to understand it better\n",
    "App_label.head(3)"
   ]
  },
  {
   "cell_type": "code",
   "execution_count": 9,
   "metadata": {},
   "outputs": [
    {
     "name": "stdout",
     "output_type": "stream",
     "text": [
      "Total Rows: 459943\n",
      "Unique Values:\n",
      "app_id: 113211\n",
      "label_id: 507\n"
     ]
    }
   ],
   "source": [
    "print('Total Rows: {}'.format(App_label.shape[0]))\n",
    "print('Unique Values:')\n",
    "for i in App_label.columns:\n",
    "    print('{}: {}'.format(i, App_label[i].nunique()))"
   ]
  },
  {
   "cell_type": "code",
   "execution_count": 10,
   "metadata": {},
   "outputs": [
    {
     "data": {
      "text/html": [
       "<div>\n",
       "<style scoped>\n",
       "    .dataframe tbody tr th:only-of-type {\n",
       "        vertical-align: middle;\n",
       "    }\n",
       "\n",
       "    .dataframe tbody tr th {\n",
       "        vertical-align: top;\n",
       "    }\n",
       "\n",
       "    .dataframe thead th {\n",
       "        text-align: right;\n",
       "    }\n",
       "</style>\n",
       "<table border=\"1\" class=\"dataframe\">\n",
       "  <thead>\n",
       "    <tr style=\"text-align: right;\">\n",
       "      <th></th>\n",
       "      <th>event_id</th>\n",
       "      <th>device_id</th>\n",
       "      <th>timestamp</th>\n",
       "      <th>longitude</th>\n",
       "      <th>latitude</th>\n",
       "    </tr>\n",
       "  </thead>\n",
       "  <tbody>\n",
       "    <tr>\n",
       "      <th>0</th>\n",
       "      <td>1</td>\n",
       "      <td>29182687948017175</td>\n",
       "      <td>2016-05-01 00:55:25</td>\n",
       "      <td>121.38</td>\n",
       "      <td>31.24</td>\n",
       "    </tr>\n",
       "    <tr>\n",
       "      <th>1</th>\n",
       "      <td>2</td>\n",
       "      <td>-6401643145415154744</td>\n",
       "      <td>2016-05-01 00:54:12</td>\n",
       "      <td>103.65</td>\n",
       "      <td>30.97</td>\n",
       "    </tr>\n",
       "    <tr>\n",
       "      <th>2</th>\n",
       "      <td>3</td>\n",
       "      <td>-4833982096941402721</td>\n",
       "      <td>2016-05-01 00:08:05</td>\n",
       "      <td>106.60</td>\n",
       "      <td>29.70</td>\n",
       "    </tr>\n",
       "  </tbody>\n",
       "</table>\n",
       "</div>"
      ],
      "text/plain": [
       "   event_id            device_id            timestamp  longitude  latitude\n",
       "0         1    29182687948017175  2016-05-01 00:55:25     121.38     31.24\n",
       "1         2 -6401643145415154744  2016-05-01 00:54:12     103.65     30.97\n",
       "2         3 -4833982096941402721  2016-05-01 00:08:05     106.60     29.70"
      ]
     },
     "execution_count": 10,
     "metadata": {},
     "output_type": "execute_result"
    }
   ],
   "source": [
    "events.head(3)"
   ]
  },
  {
   "cell_type": "code",
   "execution_count": 11,
   "metadata": {},
   "outputs": [
    {
     "data": {
      "text/html": [
       "<div>\n",
       "<style scoped>\n",
       "    .dataframe tbody tr th:only-of-type {\n",
       "        vertical-align: middle;\n",
       "    }\n",
       "\n",
       "    .dataframe tbody tr th {\n",
       "        vertical-align: top;\n",
       "    }\n",
       "\n",
       "    .dataframe thead th {\n",
       "        text-align: right;\n",
       "    }\n",
       "</style>\n",
       "<table border=\"1\" class=\"dataframe\">\n",
       "  <thead>\n",
       "    <tr style=\"text-align: right;\">\n",
       "      <th></th>\n",
       "      <th>device_id</th>\n",
       "      <th>gender</th>\n",
       "      <th>age</th>\n",
       "      <th>group</th>\n",
       "    </tr>\n",
       "  </thead>\n",
       "  <tbody>\n",
       "    <tr>\n",
       "      <th>0</th>\n",
       "      <td>-8076087639492063270</td>\n",
       "      <td>M</td>\n",
       "      <td>35</td>\n",
       "      <td>M32-38</td>\n",
       "    </tr>\n",
       "    <tr>\n",
       "      <th>1</th>\n",
       "      <td>-2897161552818060146</td>\n",
       "      <td>M</td>\n",
       "      <td>35</td>\n",
       "      <td>M32-38</td>\n",
       "    </tr>\n",
       "    <tr>\n",
       "      <th>2</th>\n",
       "      <td>-8260683887967679142</td>\n",
       "      <td>M</td>\n",
       "      <td>35</td>\n",
       "      <td>M32-38</td>\n",
       "    </tr>\n",
       "  </tbody>\n",
       "</table>\n",
       "</div>"
      ],
      "text/plain": [
       "             device_id gender  age   group\n",
       "0 -8076087639492063270      M   35  M32-38\n",
       "1 -2897161552818060146      M   35  M32-38\n",
       "2 -8260683887967679142      M   35  M32-38"
      ]
     },
     "execution_count": 11,
     "metadata": {},
     "output_type": "execute_result"
    }
   ],
   "source": [
    "Age.head(3)"
   ]
  },
  {
   "cell_type": "code",
   "execution_count": 12,
   "metadata": {},
   "outputs": [
    {
     "data": {
      "text/html": [
       "<div>\n",
       "<style scoped>\n",
       "    .dataframe tbody tr th:only-of-type {\n",
       "        vertical-align: middle;\n",
       "    }\n",
       "\n",
       "    .dataframe tbody tr th {\n",
       "        vertical-align: top;\n",
       "    }\n",
       "\n",
       "    .dataframe thead th {\n",
       "        text-align: right;\n",
       "    }\n",
       "</style>\n",
       "<table border=\"1\" class=\"dataframe\">\n",
       "  <thead>\n",
       "    <tr style=\"text-align: right;\">\n",
       "      <th></th>\n",
       "      <th>label_id</th>\n",
       "      <th>category</th>\n",
       "    </tr>\n",
       "  </thead>\n",
       "  <tbody>\n",
       "    <tr>\n",
       "      <th>0</th>\n",
       "      <td>1</td>\n",
       "      <td>NaN</td>\n",
       "    </tr>\n",
       "    <tr>\n",
       "      <th>1</th>\n",
       "      <td>2</td>\n",
       "      <td>game-game type</td>\n",
       "    </tr>\n",
       "    <tr>\n",
       "      <th>2</th>\n",
       "      <td>3</td>\n",
       "      <td>game-Game themes</td>\n",
       "    </tr>\n",
       "  </tbody>\n",
       "</table>\n",
       "</div>"
      ],
      "text/plain": [
       "   label_id          category\n",
       "0         1               NaN\n",
       "1         2    game-game type\n",
       "2         3  game-Game themes"
      ]
     },
     "execution_count": 12,
     "metadata": {},
     "output_type": "execute_result"
    }
   ],
   "source": [
    "label_cat.head(3)"
   ]
  },
  {
   "cell_type": "code",
   "execution_count": 13,
   "metadata": {},
   "outputs": [
    {
     "data": {
      "text/html": [
       "<div>\n",
       "<style scoped>\n",
       "    .dataframe tbody tr th:only-of-type {\n",
       "        vertical-align: middle;\n",
       "    }\n",
       "\n",
       "    .dataframe tbody tr th {\n",
       "        vertical-align: top;\n",
       "    }\n",
       "\n",
       "    .dataframe thead th {\n",
       "        text-align: right;\n",
       "    }\n",
       "</style>\n",
       "<table border=\"1\" class=\"dataframe\">\n",
       "  <thead>\n",
       "    <tr style=\"text-align: right;\">\n",
       "      <th></th>\n",
       "      <th>device_id</th>\n",
       "      <th>phone_brand</th>\n",
       "      <th>device_model</th>\n",
       "    </tr>\n",
       "  </thead>\n",
       "  <tbody>\n",
       "    <tr>\n",
       "      <th>0</th>\n",
       "      <td>-8890648629457979026</td>\n",
       "      <td>小米</td>\n",
       "      <td>红米</td>\n",
       "    </tr>\n",
       "    <tr>\n",
       "      <th>1</th>\n",
       "      <td>1277779817574759137</td>\n",
       "      <td>小米</td>\n",
       "      <td>MI 2</td>\n",
       "    </tr>\n",
       "    <tr>\n",
       "      <th>2</th>\n",
       "      <td>5137427614288105724</td>\n",
       "      <td>三星</td>\n",
       "      <td>Galaxy S4</td>\n",
       "    </tr>\n",
       "    <tr>\n",
       "      <th>3</th>\n",
       "      <td>3669464369358936369</td>\n",
       "      <td>SUGAR</td>\n",
       "      <td>时尚手机</td>\n",
       "    </tr>\n",
       "    <tr>\n",
       "      <th>4</th>\n",
       "      <td>-5019277647504317457</td>\n",
       "      <td>三星</td>\n",
       "      <td>Galaxy Note 2</td>\n",
       "    </tr>\n",
       "  </tbody>\n",
       "</table>\n",
       "</div>"
      ],
      "text/plain": [
       "             device_id phone_brand   device_model\n",
       "0 -8890648629457979026          小米             红米\n",
       "1  1277779817574759137          小米           MI 2\n",
       "2  5137427614288105724          三星      Galaxy S4\n",
       "3  3669464369358936369       SUGAR           时尚手机\n",
       "4 -5019277647504317457          三星  Galaxy Note 2"
      ]
     },
     "execution_count": 13,
     "metadata": {},
     "output_type": "execute_result"
    }
   ],
   "source": [
    "phone_brand.head()"
   ]
  },
  {
   "cell_type": "markdown",
   "metadata": {},
   "source": [
    "*Here in Phone Brand data, phone brand & model name is in chinease/different language. We can google it to convert in engish or use any translation API to learn performing language translation. If you are doing manually through google, i will suggest first get the distrubution of each brand and only convert for top 10/12 contributiong for say 90/95%. For simplicity, we will not do anything here for our use case. We will use it as given. Few important conversion is listed below-\n",
    "三星 samsung\n",
    "\n",
    "天语 Ktouch\n",
    "\n",
    "海信 hisense\n",
    "\n",
    "联想 lenovo\n",
    "\n",
    "爱派尔 ipair\n",
    "\n",
    "一加 oneplus\n",
    "\n",
    "诺基亚 nokia\n",
    "\n",
    "华硕 asus\n",
    "\n",
    "夏新 panosonic\n",
    "\n",
    "锤子 hammer"
   ]
  },
  {
   "cell_type": "code",
   "execution_count": 14,
   "metadata": {},
   "outputs": [
    {
     "name": "stdout",
     "output_type": "stream",
     "text": [
      "Number of Unique Phone Device:  186716\n",
      "Total Number of Devices in Phone Data:  187245\n",
      "Number of Duplicate Devices:  529\n"
     ]
    }
   ],
   "source": [
    "#check duplicates in device id & clean it\n",
    "phone_devices_unique=np.unique(phone_brand['device_id'].values)\n",
    "print(\"Number of Unique Phone Device: \",len(phone_devices_unique))\n",
    "print(\"Total Number of Devices in Phone Data: \",phone_brand.shape[0])\n",
    "print(\"Number of Duplicate Devices: \",phone_brand.shape[0]-len(phone_devices_unique))"
   ]
  },
  {
   "cell_type": "code",
   "execution_count": 15,
   "metadata": {},
   "outputs": [
    {
     "data": {
      "text/plain": [
       "186716"
      ]
     },
     "execution_count": 15,
     "metadata": {},
     "output_type": "execute_result"
    }
   ],
   "source": [
    "#remove duplicates\n",
    "phone_brand = phone_brand.drop_duplicates('device_id', keep='first')\n",
    "phone_brand.shape[0]"
   ]
  },
  {
   "cell_type": "code",
   "execution_count": 16,
   "metadata": {},
   "outputs": [],
   "source": [
    "#Merge all data together. We can do it all together but better do one by one and learn new dimensions of data\n",
    "labelled_data = (events.merge(phone_brand, how='left', on='device_id')\n",
    "                            .merge(Age, how='left', on='device_id')\n",
    "                            )"
   ]
  },
  {
   "cell_type": "code",
   "execution_count": 17,
   "metadata": {},
   "outputs": [
    {
     "data": {
      "text/html": [
       "<div>\n",
       "<style scoped>\n",
       "    .dataframe tbody tr th:only-of-type {\n",
       "        vertical-align: middle;\n",
       "    }\n",
       "\n",
       "    .dataframe tbody tr th {\n",
       "        vertical-align: top;\n",
       "    }\n",
       "\n",
       "    .dataframe thead th {\n",
       "        text-align: right;\n",
       "    }\n",
       "</style>\n",
       "<table border=\"1\" class=\"dataframe\">\n",
       "  <thead>\n",
       "    <tr style=\"text-align: right;\">\n",
       "      <th></th>\n",
       "      <th>event_id</th>\n",
       "      <th>device_id</th>\n",
       "      <th>timestamp</th>\n",
       "      <th>longitude</th>\n",
       "      <th>latitude</th>\n",
       "      <th>phone_brand</th>\n",
       "      <th>device_model</th>\n",
       "      <th>gender</th>\n",
       "      <th>age</th>\n",
       "      <th>group</th>\n",
       "    </tr>\n",
       "  </thead>\n",
       "  <tbody>\n",
       "    <tr>\n",
       "      <th>0</th>\n",
       "      <td>1</td>\n",
       "      <td>29182687948017175</td>\n",
       "      <td>2016-05-01 00:55:25</td>\n",
       "      <td>121.38</td>\n",
       "      <td>31.24</td>\n",
       "      <td>小米</td>\n",
       "      <td>红米note</td>\n",
       "      <td>M</td>\n",
       "      <td>46.0</td>\n",
       "      <td>M39+</td>\n",
       "    </tr>\n",
       "    <tr>\n",
       "      <th>1</th>\n",
       "      <td>2</td>\n",
       "      <td>-6401643145415154744</td>\n",
       "      <td>2016-05-01 00:54:12</td>\n",
       "      <td>103.65</td>\n",
       "      <td>30.97</td>\n",
       "      <td>三星</td>\n",
       "      <td>Galaxy Grand Prime</td>\n",
       "      <td>NaN</td>\n",
       "      <td>NaN</td>\n",
       "      <td>NaN</td>\n",
       "    </tr>\n",
       "  </tbody>\n",
       "</table>\n",
       "</div>"
      ],
      "text/plain": [
       "   event_id            device_id            timestamp  longitude  latitude  \\\n",
       "0         1    29182687948017175  2016-05-01 00:55:25     121.38     31.24   \n",
       "1         2 -6401643145415154744  2016-05-01 00:54:12     103.65     30.97   \n",
       "\n",
       "  phone_brand        device_model gender   age group  \n",
       "0          小米              红米note      M  46.0  M39+  \n",
       "1          三星  Galaxy Grand Prime    NaN   NaN   NaN  "
      ]
     },
     "execution_count": 17,
     "metadata": {},
     "output_type": "execute_result"
    }
   ],
   "source": [
    "# Check new data frame look\n",
    "labelled_data.head(2)"
   ]
  },
  {
   "cell_type": "code",
   "execution_count": 18,
   "metadata": {},
   "outputs": [],
   "source": [
    "apps_label_category=pd.merge(App_label,label_cat,on='label_id',how='left')"
   ]
  },
  {
   "cell_type": "code",
   "execution_count": 19,
   "metadata": {},
   "outputs": [
    {
     "data": {
      "text/html": [
       "<div>\n",
       "<style scoped>\n",
       "    .dataframe tbody tr th:only-of-type {\n",
       "        vertical-align: middle;\n",
       "    }\n",
       "\n",
       "    .dataframe tbody tr th {\n",
       "        vertical-align: top;\n",
       "    }\n",
       "\n",
       "    .dataframe thead th {\n",
       "        text-align: right;\n",
       "    }\n",
       "</style>\n",
       "<table border=\"1\" class=\"dataframe\">\n",
       "  <thead>\n",
       "    <tr style=\"text-align: right;\">\n",
       "      <th></th>\n",
       "      <th>app_id</th>\n",
       "      <th>label_id</th>\n",
       "      <th>category</th>\n",
       "    </tr>\n",
       "  </thead>\n",
       "  <tbody>\n",
       "    <tr>\n",
       "      <th>0</th>\n",
       "      <td>7324884708820027918</td>\n",
       "      <td>251</td>\n",
       "      <td>Finance</td>\n",
       "    </tr>\n",
       "    <tr>\n",
       "      <th>1</th>\n",
       "      <td>-4494216993218550286</td>\n",
       "      <td>251</td>\n",
       "      <td>Finance</td>\n",
       "    </tr>\n",
       "    <tr>\n",
       "      <th>2</th>\n",
       "      <td>6058196446775239644</td>\n",
       "      <td>406</td>\n",
       "      <td>unknown</td>\n",
       "    </tr>\n",
       "  </tbody>\n",
       "</table>\n",
       "</div>"
      ],
      "text/plain": [
       "                app_id  label_id category\n",
       "0  7324884708820027918       251  Finance\n",
       "1 -4494216993218550286       251  Finance\n",
       "2  6058196446775239644       406  unknown"
      ]
     },
     "execution_count": 19,
     "metadata": {},
     "output_type": "execute_result"
    }
   ],
   "source": [
    "apps_label_category.head(3)"
   ]
  },
  {
   "cell_type": "code",
   "execution_count": 20,
   "metadata": {},
   "outputs": [],
   "source": [
    "apps_label_category1=pd.merge(labelled_data,App_event,on='event_id',how='left')"
   ]
  },
  {
   "cell_type": "code",
   "execution_count": 21,
   "metadata": {},
   "outputs": [
    {
     "data": {
      "text/html": [
       "<div>\n",
       "<style scoped>\n",
       "    .dataframe tbody tr th:only-of-type {\n",
       "        vertical-align: middle;\n",
       "    }\n",
       "\n",
       "    .dataframe tbody tr th {\n",
       "        vertical-align: top;\n",
       "    }\n",
       "\n",
       "    .dataframe thead th {\n",
       "        text-align: right;\n",
       "    }\n",
       "</style>\n",
       "<table border=\"1\" class=\"dataframe\">\n",
       "  <thead>\n",
       "    <tr style=\"text-align: right;\">\n",
       "      <th></th>\n",
       "      <th>event_id</th>\n",
       "      <th>device_id</th>\n",
       "      <th>timestamp</th>\n",
       "      <th>longitude</th>\n",
       "      <th>latitude</th>\n",
       "      <th>phone_brand</th>\n",
       "      <th>device_model</th>\n",
       "      <th>gender</th>\n",
       "      <th>age</th>\n",
       "      <th>group</th>\n",
       "      <th>app_id</th>\n",
       "      <th>is_installed</th>\n",
       "      <th>is_active</th>\n",
       "    </tr>\n",
       "  </thead>\n",
       "  <tbody>\n",
       "    <tr>\n",
       "      <th>0</th>\n",
       "      <td>1</td>\n",
       "      <td>29182687948017175</td>\n",
       "      <td>2016-05-01 00:55:25</td>\n",
       "      <td>121.38</td>\n",
       "      <td>31.24</td>\n",
       "      <td>小米</td>\n",
       "      <td>红米note</td>\n",
       "      <td>M</td>\n",
       "      <td>46.0</td>\n",
       "      <td>M39+</td>\n",
       "      <td>NaN</td>\n",
       "      <td>NaN</td>\n",
       "      <td>NaN</td>\n",
       "    </tr>\n",
       "    <tr>\n",
       "      <th>1</th>\n",
       "      <td>2</td>\n",
       "      <td>-6401643145415154744</td>\n",
       "      <td>2016-05-01 00:54:12</td>\n",
       "      <td>103.65</td>\n",
       "      <td>30.97</td>\n",
       "      <td>三星</td>\n",
       "      <td>Galaxy Grand Prime</td>\n",
       "      <td>NaN</td>\n",
       "      <td>NaN</td>\n",
       "      <td>NaN</td>\n",
       "      <td>5.927333e+18</td>\n",
       "      <td>1.0</td>\n",
       "      <td>True</td>\n",
       "    </tr>\n",
       "    <tr>\n",
       "      <th>2</th>\n",
       "      <td>2</td>\n",
       "      <td>-6401643145415154744</td>\n",
       "      <td>2016-05-01 00:54:12</td>\n",
       "      <td>103.65</td>\n",
       "      <td>30.97</td>\n",
       "      <td>三星</td>\n",
       "      <td>Galaxy Grand Prime</td>\n",
       "      <td>NaN</td>\n",
       "      <td>NaN</td>\n",
       "      <td>NaN</td>\n",
       "      <td>-5.720079e+18</td>\n",
       "      <td>1.0</td>\n",
       "      <td>False</td>\n",
       "    </tr>\n",
       "  </tbody>\n",
       "</table>\n",
       "</div>"
      ],
      "text/plain": [
       "   event_id            device_id            timestamp  longitude  latitude  \\\n",
       "0         1    29182687948017175  2016-05-01 00:55:25     121.38     31.24   \n",
       "1         2 -6401643145415154744  2016-05-01 00:54:12     103.65     30.97   \n",
       "2         2 -6401643145415154744  2016-05-01 00:54:12     103.65     30.97   \n",
       "\n",
       "  phone_brand        device_model gender   age group        app_id  \\\n",
       "0          小米              红米note      M  46.0  M39+           NaN   \n",
       "1          三星  Galaxy Grand Prime    NaN   NaN   NaN  5.927333e+18   \n",
       "2          三星  Galaxy Grand Prime    NaN   NaN   NaN -5.720079e+18   \n",
       "\n",
       "   is_installed is_active  \n",
       "0           NaN       NaN  \n",
       "1           1.0      True  \n",
       "2           1.0     False  "
      ]
     },
     "execution_count": 21,
     "metadata": {},
     "output_type": "execute_result"
    }
   ],
   "source": [
    "apps_label_category1.head(3)"
   ]
  },
  {
   "cell_type": "code",
   "execution_count": 22,
   "metadata": {},
   "outputs": [
    {
     "name": "stdout",
     "output_type": "stream",
     "text": [
      "Event Start:  2016-04-30 23:52:24\n",
      "Event End:  2016-05-08 00:00:08\n"
     ]
    }
   ],
   "source": [
    "# let's analyze timestamp data\n",
    "event_time=apps_label_category1['timestamp'].values\n",
    "print(\"Event Start: \",np.min(event_time))\n",
    "print(\"Event End: \",np.max(event_time))"
   ]
  },
  {
   "cell_type": "markdown",
   "metadata": {},
   "source": [
    "*The Events Data provided is for a period of 7 Days Starting from 30th April 2016 mid-night to starting of 8th May 2016"
   ]
  },
  {
   "cell_type": "code",
   "execution_count": 23,
   "metadata": {},
   "outputs": [
    {
     "data": {
      "text/plain": [
       "(34237921, 11)"
      ]
     },
     "execution_count": 23,
     "metadata": {},
     "output_type": "execute_result"
    }
   ],
   "source": [
    "# let's drop timestamp and is_installed from our input data\n",
    "Data_notimestamp = apps_label_category1.drop(['timestamp','is_installed'], 1)\n",
    "Data_notimestamp.shape"
   ]
  },
  {
   "cell_type": "code",
   "execution_count": null,
   "metadata": {},
   "outputs": [],
   "source": [
    "# We ave too many rows in our data, so lets drop all naull values"
   ]
  },
  {
   "cell_type": "code",
   "execution_count": 24,
   "metadata": {},
   "outputs": [
    {
     "data": {
      "text/plain": [
       "(12237197, 11)"
      ]
     },
     "execution_count": 24,
     "metadata": {},
     "output_type": "execute_result"
    }
   ],
   "source": [
    "Data_notimestamp_NoNA=Data_notimestamp.dropna()\n",
    "Data_notimestamp_NoNA.shape"
   ]
  },
  {
   "cell_type": "markdown",
   "metadata": {},
   "source": [
    "*EDA/Exploratory Data Analysis"
   ]
  },
  {
   "cell_type": "markdown",
   "metadata": {},
   "source": [
    "*Data preparation is the process of cleaning and transforming raw data before building the models\n",
    "You should always explore all the data points and try building your initial hypothesis to see if that factor/variable can help you in solving your main problem statement/your goal\n",
    "\n",
    "Here we analyze the data with the following steps:\n",
    "1. Check dimensions of the dataframe in terms of rows and columns and study few of the variables\n",
    "2. Check the data type. Refer data definition to validate the data type \n",
    "3. If the data type is not as per the business definition, change the data type as per requirement \n",
    "4. Check the distribution of variables\n",
    "5. Study summary statistics\n",
    "6. Check for missing values\n",
    "\n",
    "Note: This is an art to explore the data better. Above points are only indicative as minimum requred steps. You can add to this list"
   ]
  },
  {
   "cell_type": "code",
   "execution_count": 25,
   "metadata": {},
   "outputs": [
    {
     "data": {
      "text/plain": [
       "<matplotlib.axes._subplots.AxesSubplot at 0x1c78edbb488>"
      ]
     },
     "execution_count": 25,
     "metadata": {},
     "output_type": "execute_result"
    },
    {
     "data": {
      "image/png": "[encoded data removed]",
      "text/plain": [
       "<Figure size 432x288 with 1 Axes>"
      ]
     },
     "metadata": {
      "needs_background": "light"
     },
     "output_type": "display_data"
    }
   ],
   "source": [
    "Data_notimestamp_NoNA.group.value_counts().sort_index(ascending=False).plot(kind='bar')"
   ]
  },
  {
   "cell_type": "markdown",
   "metadata": {},
   "source": [
    "* Male gender age group is more than Female gender age group"
   ]
  },
  {
   "cell_type": "markdown",
   "metadata": {},
   "source": [
    "* Lets explore proportion of male & female in data set"
   ]
  },
  {
   "cell_type": "code",
   "execution_count": 26,
   "metadata": {},
   "outputs": [
    {
     "data": {
      "image/png": "[encoded data removed]",
      "text/plain": [
       "<Figure size 432x288 with 1 Axes>"
      ]
     },
     "metadata": {},
     "output_type": "display_data"
    }
   ],
   "source": [
    "gender_dict = Data_notimestamp_NoNA['gender'].value_counts()\n",
    "gender_labels=['Male','Female']\n",
    "male_percentage=(gender_dict['M']*100)//Data_notimestamp_NoNA.shape[0]\n",
    "female_percentage=(gender_dict['F']*100)//Data_notimestamp_NoNA.shape[0]\n",
    "sizes=[male_percentage,female_percentage]\n",
    "fig1, ax1 = plt.subplots()\n",
    "ax1.pie(sizes, labels=gender_labels, autopct='%1.1f%%',\n",
    "        shadow=True, startangle=90)\n",
    "ax1.axis('equal')\n",
    "plt.title('Gender Percentage')\n",
    "plt.show()"
   ]
  },
  {
   "cell_type": "markdown",
   "metadata": {},
   "source": [
    "*Gender representATION Is not Balanced. 2/3rd are Males"
   ]
  },
  {
   "cell_type": "markdown",
   "metadata": {},
   "source": [
    "* Lets check there age distribution"
   ]
  },
  {
   "cell_type": "code",
   "execution_count": 27,
   "metadata": {},
   "outputs": [
    {
     "data": {
      "image/png": "[encoded data removed]",
      "text/plain": [
       "<Figure size 764.625x720 with 1 Axes>"
      ]
     },
     "metadata": {
      "needs_background": "light"
     },
     "output_type": "display_data"
    }
   ],
   "source": [
    "sns.FacetGrid(Data_notimestamp_NoNA, hue=\"gender\", size=10).map(sns.distplot, \"age\").add_legend();\n",
    "plt.show()"
   ]
  },
  {
   "cell_type": "markdown",
   "metadata": {},
   "source": [
    "* Mostely overlap in the Number of Male and Female in age group below 46/47 but number of female are slightly more than Male in the age group above 46"
   ]
  },
  {
   "cell_type": "code",
   "execution_count": 28,
   "metadata": {},
   "outputs": [
    {
     "data": {
      "text/plain": [
       "(611860, 11)"
      ]
     },
     "execution_count": 28,
     "metadata": {},
     "output_type": "execute_result"
    }
   ],
   "source": [
    "#let's create a random sample of 5% records for our clustering learning example\n",
    "data_touse= Data_notimestamp_NoNA.sample(frac=0.05,random_state=1111)\n",
    "data_touse.shape"
   ]
  },
  {
   "cell_type": "code",
   "execution_count": 29,
   "metadata": {},
   "outputs": [
    {
     "data": {
      "text/html": [
       "<div>\n",
       "<style scoped>\n",
       "    .dataframe tbody tr th:only-of-type {\n",
       "        vertical-align: middle;\n",
       "    }\n",
       "\n",
       "    .dataframe tbody tr th {\n",
       "        vertical-align: top;\n",
       "    }\n",
       "\n",
       "    .dataframe thead th {\n",
       "        text-align: right;\n",
       "    }\n",
       "</style>\n",
       "<table border=\"1\" class=\"dataframe\">\n",
       "  <thead>\n",
       "    <tr style=\"text-align: right;\">\n",
       "      <th></th>\n",
       "      <th>event_id</th>\n",
       "      <th>device_id</th>\n",
       "      <th>longitude</th>\n",
       "      <th>latitude</th>\n",
       "      <th>age</th>\n",
       "      <th>app_id</th>\n",
       "    </tr>\n",
       "  </thead>\n",
       "  <tbody>\n",
       "    <tr>\n",
       "      <th>count</th>\n",
       "      <td>6.118600e+05</td>\n",
       "      <td>6.118600e+05</td>\n",
       "      <td>611860.000000</td>\n",
       "      <td>611860.000000</td>\n",
       "      <td>611860.000000</td>\n",
       "      <td>6.118600e+05</td>\n",
       "    </tr>\n",
       "    <tr>\n",
       "      <th>mean</th>\n",
       "      <td>1.625862e+06</td>\n",
       "      <td>1.028504e+17</td>\n",
       "      <td>45.064401</td>\n",
       "      <td>12.407969</td>\n",
       "      <td>33.375504</td>\n",
       "      <td>1.200933e+18</td>\n",
       "    </tr>\n",
       "    <tr>\n",
       "      <th>std</th>\n",
       "      <td>9.397535e+05</td>\n",
       "      <td>5.291784e+18</td>\n",
       "      <td>56.258613</td>\n",
       "      <td>15.844912</td>\n",
       "      <td>9.412878</td>\n",
       "      <td>5.364052e+18</td>\n",
       "    </tr>\n",
       "    <tr>\n",
       "      <th>min</th>\n",
       "      <td>6.000000e+00</td>\n",
       "      <td>-9.222957e+18</td>\n",
       "      <td>-180.000000</td>\n",
       "      <td>-33.800000</td>\n",
       "      <td>11.000000</td>\n",
       "      <td>-9.220899e+18</td>\n",
       "    </tr>\n",
       "    <tr>\n",
       "      <th>25%</th>\n",
       "      <td>8.118670e+05</td>\n",
       "      <td>-4.364912e+18</td>\n",
       "      <td>0.000000</td>\n",
       "      <td>0.000000</td>\n",
       "      <td>27.000000</td>\n",
       "      <td>-3.425831e+18</td>\n",
       "    </tr>\n",
       "    <tr>\n",
       "      <th>50%</th>\n",
       "      <td>1.626136e+06</td>\n",
       "      <td>9.353817e+16</td>\n",
       "      <td>0.000000</td>\n",
       "      <td>0.000000</td>\n",
       "      <td>31.000000</td>\n",
       "      <td>1.497693e+18</td>\n",
       "    </tr>\n",
       "    <tr>\n",
       "      <th>75%</th>\n",
       "      <td>2.442641e+06</td>\n",
       "      <td>4.674060e+18</td>\n",
       "      <td>113.850000</td>\n",
       "      <td>30.110000</td>\n",
       "      <td>39.000000</td>\n",
       "      <td>6.179144e+18</td>\n",
       "    </tr>\n",
       "    <tr>\n",
       "      <th>max</th>\n",
       "      <td>3.252948e+06</td>\n",
       "      <td>9.220915e+18</td>\n",
       "      <td>151.180000</td>\n",
       "      <td>53.640000</td>\n",
       "      <td>89.000000</td>\n",
       "      <td>9.222488e+18</td>\n",
       "    </tr>\n",
       "  </tbody>\n",
       "</table>\n",
       "</div>"
      ],
      "text/plain": [
       "           event_id     device_id      longitude       latitude  \\\n",
       "count  6.118600e+05  6.118600e+05  611860.000000  611860.000000   \n",
       "mean   1.625862e+06  1.028504e+17      45.064401      12.407969   \n",
       "std    9.397535e+05  5.291784e+18      56.258613      15.844912   \n",
       "min    6.000000e+00 -9.222957e+18    -180.000000     -33.800000   \n",
       "25%    8.118670e+05 -4.364912e+18       0.000000       0.000000   \n",
       "50%    1.626136e+06  9.353817e+16       0.000000       0.000000   \n",
       "75%    2.442641e+06  4.674060e+18     113.850000      30.110000   \n",
       "max    3.252948e+06  9.220915e+18     151.180000      53.640000   \n",
       "\n",
       "                 age        app_id  \n",
       "count  611860.000000  6.118600e+05  \n",
       "mean       33.375504  1.200933e+18  \n",
       "std         9.412878  5.364052e+18  \n",
       "min        11.000000 -9.220899e+18  \n",
       "25%        27.000000 -3.425831e+18  \n",
       "50%        31.000000  1.497693e+18  \n",
       "75%        39.000000  6.179144e+18  \n",
       "max        89.000000  9.222488e+18  "
      ]
     },
     "execution_count": 29,
     "metadata": {},
     "output_type": "execute_result"
    }
   ],
   "source": [
    "#still we have more than 6 lakhs data point to work. Good to go....\n",
    "data_touse.describe()"
   ]
  },
  {
   "cell_type": "markdown",
   "metadata": {},
   "source": [
    "* In our dataset, we have both numerical and categorical variables. We check for summary statistics of all the variables\n",
    "\n",
    "1. For numerical variables, use .describe()\n",
    "2. For categorical variables, use .describe(include=object) "
   ]
  },
  {
   "cell_type": "code",
   "execution_count": 30,
   "metadata": {},
   "outputs": [
    {
     "data": {
      "image/png": "[encoded data removed]",
      "text/plain": [
       "<Figure size 432x288 with 1 Axes>"
      ]
     },
     "metadata": {
      "needs_background": "light"
     },
     "output_type": "display_data"
    }
   ],
   "source": [
    "#see distribution of gender & age(Group) column again\n",
    "plt.title('Group Counts Plot')\n",
    "plt.xlabel('Group')\n",
    "plt.ylabel('Count of People Belonging to Group')\n",
    "data_touse['group'].value_counts().plot.bar()\n",
    "plt.show()"
   ]
  },
  {
   "cell_type": "markdown",
   "metadata": {},
   "source": [
    "*seems ratio is maintained after random sampling. Good to go..."
   ]
  },
  {
   "cell_type": "code",
   "execution_count": 31,
   "metadata": {},
   "outputs": [
    {
     "data": {
      "text/plain": [
       "<matplotlib.axes._subplots.AxesSubplot at 0x1c7907f4308>"
      ]
     },
     "execution_count": 31,
     "metadata": {},
     "output_type": "execute_result"
    },
    {
     "data": {
      "image/png": "[encoded data removed]",
      "text/plain": [
       "<Figure size 432x288 with 1 Axes>"
      ]
     },
     "metadata": {
      "needs_background": "light"
     },
     "output_type": "display_data"
    }
   ],
   "source": [
    "data_touse.gender.value_counts().plot(kind='bar')\n",
    "#Expected as per original proportion. Good to go..."
   ]
  },
  {
   "cell_type": "code",
   "execution_count": 32,
   "metadata": {},
   "outputs": [
    {
     "data": {
      "text/html": [
       "<div>\n",
       "<style scoped>\n",
       "    .dataframe tbody tr th:only-of-type {\n",
       "        vertical-align: middle;\n",
       "    }\n",
       "\n",
       "    .dataframe tbody tr th {\n",
       "        vertical-align: top;\n",
       "    }\n",
       "\n",
       "    .dataframe thead th {\n",
       "        text-align: right;\n",
       "    }\n",
       "</style>\n",
       "<table border=\"1\" class=\"dataframe\">\n",
       "  <thead>\n",
       "    <tr style=\"text-align: right;\">\n",
       "      <th></th>\n",
       "      <th>event_id</th>\n",
       "      <th>device_id</th>\n",
       "      <th>longitude</th>\n",
       "      <th>latitude</th>\n",
       "      <th>phone_brand</th>\n",
       "      <th>device_model</th>\n",
       "      <th>gender</th>\n",
       "      <th>age</th>\n",
       "      <th>group</th>\n",
       "      <th>app_id</th>\n",
       "      <th>is_active</th>\n",
       "    </tr>\n",
       "  </thead>\n",
       "  <tbody>\n",
       "    <tr>\n",
       "      <th>17858740</th>\n",
       "      <td>1697198</td>\n",
       "      <td>9125896648976328820</td>\n",
       "      <td>120.20</td>\n",
       "      <td>30.21</td>\n",
       "      <td>华为</td>\n",
       "      <td>荣耀6</td>\n",
       "      <td>F</td>\n",
       "      <td>25.0</td>\n",
       "      <td>F24-26</td>\n",
       "      <td>6.602286e+18</td>\n",
       "      <td>False</td>\n",
       "    </tr>\n",
       "    <tr>\n",
       "      <th>5629730</th>\n",
       "      <td>536095</td>\n",
       "      <td>8265653199960723664</td>\n",
       "      <td>118.72</td>\n",
       "      <td>33.95</td>\n",
       "      <td>vivo</td>\n",
       "      <td>X5SL</td>\n",
       "      <td>F</td>\n",
       "      <td>32.0</td>\n",
       "      <td>F29-32</td>\n",
       "      <td>8.693964e+18</td>\n",
       "      <td>True</td>\n",
       "    </tr>\n",
       "    <tr>\n",
       "      <th>10464214</th>\n",
       "      <td>996108</td>\n",
       "      <td>2343433997974187290</td>\n",
       "      <td>0.00</td>\n",
       "      <td>0.00</td>\n",
       "      <td>vivo</td>\n",
       "      <td>Y27</td>\n",
       "      <td>F</td>\n",
       "      <td>28.0</td>\n",
       "      <td>F27-28</td>\n",
       "      <td>6.666574e+18</td>\n",
       "      <td>False</td>\n",
       "    </tr>\n",
       "  </tbody>\n",
       "</table>\n",
       "</div>"
      ],
      "text/plain": [
       "          event_id            device_id  longitude  latitude phone_brand  \\\n",
       "17858740   1697198  9125896648976328820     120.20     30.21          华为   \n",
       "5629730     536095  8265653199960723664     118.72     33.95        vivo   \n",
       "10464214    996108  2343433997974187290       0.00      0.00        vivo   \n",
       "\n",
       "         device_model gender   age   group        app_id is_active  \n",
       "17858740          荣耀6      F  25.0  F24-26  6.602286e+18     False  \n",
       "5629730          X5SL      F  32.0  F29-32  8.693964e+18      True  \n",
       "10464214          Y27      F  28.0  F27-28  6.666574e+18     False  "
      ]
     },
     "execution_count": 32,
     "metadata": {},
     "output_type": "execute_result"
    }
   ],
   "source": [
    "data_touse.tail(3)"
   ]
  },
  {
   "cell_type": "code",
   "execution_count": 33,
   "metadata": {},
   "outputs": [
    {
     "data": {
      "text/html": [
       "<div>\n",
       "<style scoped>\n",
       "    .dataframe tbody tr th:only-of-type {\n",
       "        vertical-align: middle;\n",
       "    }\n",
       "\n",
       "    .dataframe tbody tr th {\n",
       "        vertical-align: top;\n",
       "    }\n",
       "\n",
       "    .dataframe thead th {\n",
       "        text-align: right;\n",
       "    }\n",
       "</style>\n",
       "<table border=\"1\" class=\"dataframe\">\n",
       "  <thead>\n",
       "    <tr style=\"text-align: right;\">\n",
       "      <th></th>\n",
       "      <th>event_id</th>\n",
       "      <th>device_id</th>\n",
       "      <th>longitude</th>\n",
       "      <th>latitude</th>\n",
       "      <th>phone_brand</th>\n",
       "      <th>device_model</th>\n",
       "      <th>age</th>\n",
       "      <th>group</th>\n",
       "      <th>app_id</th>\n",
       "      <th>phone_brand_Cat</th>\n",
       "      <th>device_model_Cat</th>\n",
       "      <th>app_id_Cat</th>\n",
       "      <th>Type_is_F</th>\n",
       "      <th>Type_is_M</th>\n",
       "      <th>Active_False</th>\n",
       "      <th>Active_True</th>\n",
       "    </tr>\n",
       "  </thead>\n",
       "  <tbody>\n",
       "    <tr>\n",
       "      <th>32857701</th>\n",
       "      <td>3114209</td>\n",
       "      <td>3517190067519579513</td>\n",
       "      <td>0.00</td>\n",
       "      <td>0.0</td>\n",
       "      <td>华为</td>\n",
       "      <td>荣耀7</td>\n",
       "      <td>43.0</td>\n",
       "      <td>F43+</td>\n",
       "      <td>-7.164737e+18</td>\n",
       "      <td>21</td>\n",
       "      <td>841</td>\n",
       "      <td>892</td>\n",
       "      <td>1</td>\n",
       "      <td>0</td>\n",
       "      <td>1</td>\n",
       "      <td>0</td>\n",
       "    </tr>\n",
       "    <tr>\n",
       "      <th>22448040</th>\n",
       "      <td>2133414</td>\n",
       "      <td>8424302192542364410</td>\n",
       "      <td>115.98</td>\n",
       "      <td>39.7</td>\n",
       "      <td>小米</td>\n",
       "      <td>MI 3</td>\n",
       "      <td>19.0</td>\n",
       "      <td>F23-</td>\n",
       "      <td>1.665047e+18</td>\n",
       "      <td>33</td>\n",
       "      <td>386</td>\n",
       "      <td>5287</td>\n",
       "      <td>1</td>\n",
       "      <td>0</td>\n",
       "      <td>0</td>\n",
       "      <td>1</td>\n",
       "    </tr>\n",
       "  </tbody>\n",
       "</table>\n",
       "</div>"
      ],
      "text/plain": [
       "          event_id            device_id  longitude  latitude phone_brand  \\\n",
       "32857701   3114209  3517190067519579513       0.00       0.0          华为   \n",
       "22448040   2133414  8424302192542364410     115.98      39.7          小米   \n",
       "\n",
       "         device_model   age group        app_id  phone_brand_Cat  \\\n",
       "32857701          荣耀7  43.0  F43+ -7.164737e+18               21   \n",
       "22448040         MI 3  19.0  F23-  1.665047e+18               33   \n",
       "\n",
       "          device_model_Cat  app_id_Cat  Type_is_F  Type_is_M  Active_False  \\\n",
       "32857701               841         892          1          0             1   \n",
       "22448040               386        5287          1          0             0   \n",
       "\n",
       "          Active_True  \n",
       "32857701            0  \n",
       "22448040            1  "
      ]
     },
     "execution_count": 33,
     "metadata": {},
     "output_type": "execute_result"
    }
   ],
   "source": [
    "#lets convert the category data as numeric encoder\n",
    "from sklearn.preprocessing import LabelEncoder\n",
    "# creating instance of labelencoder\n",
    "labelencoder = LabelEncoder()\n",
    "data_touse['phone_brand_Cat'] = labelencoder.fit_transform(data_touse['phone_brand'])\n",
    "data_touse['device_model_Cat'] = labelencoder.fit_transform(data_touse['device_model'])\n",
    "data_touse['app_id_Cat'] = labelencoder.fit_transform(data_touse['app_id'])\n",
    "data_touse = pd.get_dummies(data_touse, columns=[\"gender\"], prefix=[\"Type_is\"] )\n",
    "data_touse = pd.get_dummies(data_touse, columns=[\"is_active\"], prefix=[\"Active\"] )\n",
    "data_touse.head(2)"
   ]
  },
  {
   "cell_type": "code",
   "execution_count": 34,
   "metadata": {},
   "outputs": [],
   "source": [
    "#Let's drop original identity data as that will not help in our analysis\n",
    "data_cluster= data_touse.drop(['group','phone_brand','device_model','app_id','event_id','device_id'],axis=1)"
   ]
  },
  {
   "cell_type": "code",
   "execution_count": 35,
   "metadata": {},
   "outputs": [
    {
     "data": {
      "text/html": [
       "<div>\n",
       "<style scoped>\n",
       "    .dataframe tbody tr th:only-of-type {\n",
       "        vertical-align: middle;\n",
       "    }\n",
       "\n",
       "    .dataframe tbody tr th {\n",
       "        vertical-align: top;\n",
       "    }\n",
       "\n",
       "    .dataframe thead th {\n",
       "        text-align: right;\n",
       "    }\n",
       "</style>\n",
       "<table border=\"1\" class=\"dataframe\">\n",
       "  <thead>\n",
       "    <tr style=\"text-align: right;\">\n",
       "      <th></th>\n",
       "      <th>longitude</th>\n",
       "      <th>latitude</th>\n",
       "      <th>age</th>\n",
       "      <th>phone_brand_Cat</th>\n",
       "      <th>device_model_Cat</th>\n",
       "      <th>app_id_Cat</th>\n",
       "      <th>Type_is_F</th>\n",
       "      <th>Type_is_M</th>\n",
       "      <th>Active_False</th>\n",
       "      <th>Active_True</th>\n",
       "    </tr>\n",
       "  </thead>\n",
       "  <tbody>\n",
       "    <tr>\n",
       "      <th>32857701</th>\n",
       "      <td>0.00</td>\n",
       "      <td>0.0</td>\n",
       "      <td>43.0</td>\n",
       "      <td>21</td>\n",
       "      <td>841</td>\n",
       "      <td>892</td>\n",
       "      <td>1</td>\n",
       "      <td>0</td>\n",
       "      <td>1</td>\n",
       "      <td>0</td>\n",
       "    </tr>\n",
       "    <tr>\n",
       "      <th>22448040</th>\n",
       "      <td>115.98</td>\n",
       "      <td>39.7</td>\n",
       "      <td>19.0</td>\n",
       "      <td>33</td>\n",
       "      <td>386</td>\n",
       "      <td>5287</td>\n",
       "      <td>1</td>\n",
       "      <td>0</td>\n",
       "      <td>0</td>\n",
       "      <td>1</td>\n",
       "    </tr>\n",
       "    <tr>\n",
       "      <th>15985325</th>\n",
       "      <td>1.00</td>\n",
       "      <td>1.0</td>\n",
       "      <td>39.0</td>\n",
       "      <td>13</td>\n",
       "      <td>377</td>\n",
       "      <td>8700</td>\n",
       "      <td>0</td>\n",
       "      <td>1</td>\n",
       "      <td>0</td>\n",
       "      <td>1</td>\n",
       "    </tr>\n",
       "  </tbody>\n",
       "</table>\n",
       "</div>"
      ],
      "text/plain": [
       "          longitude  latitude   age  phone_brand_Cat  device_model_Cat  \\\n",
       "32857701       0.00       0.0  43.0               21               841   \n",
       "22448040     115.98      39.7  19.0               33               386   \n",
       "15985325       1.00       1.0  39.0               13               377   \n",
       "\n",
       "          app_id_Cat  Type_is_F  Type_is_M  Active_False  Active_True  \n",
       "32857701         892          1          0             1            0  \n",
       "22448040        5287          1          0             0            1  \n",
       "15985325        8700          0          1             0            1  "
      ]
     },
     "execution_count": 35,
     "metadata": {},
     "output_type": "execute_result"
    }
   ],
   "source": [
    "data_cluster.head(3)"
   ]
  },
  {
   "cell_type": "markdown",
   "metadata": {},
   "source": [
    "*Centroid-based clustering algorithms cluster the data into non-hierarchical clusters. Such algorithms are efficient but sensitive to initial conditions and outliers. K-means is the most widely-used centroid-based clustering algorithm"
   ]
  },
  {
   "cell_type": "code",
   "execution_count": 36,
   "metadata": {},
   "outputs": [],
   "source": [
    "from sklearn.cluster import KMeans\n",
    "# Using the elbow method to find the optimal number of clusters\n",
    "wcss =[]\n",
    "for i in range (1,11):\n",
    "    kmeans = KMeans(n_clusters = i, init = 'k-means++', max_iter =300, n_init = 10, random_state = 0)\n",
    "    kmeans.fit(data_cluster)\n",
    "    wcss.append(kmeans.inertia_)"
   ]
  },
  {
   "cell_type": "code",
   "execution_count": 37,
   "metadata": {},
   "outputs": [
    {
     "data": {
      "image/png": "[encoded data removed]",
      "text/plain": [
       "<Figure size 432x288 with 1 Axes>"
      ]
     },
     "metadata": {
      "needs_background": "light"
     },
     "output_type": "display_data"
    }
   ],
   "source": [
    "# Plot the graph to visualize the optimal number of cluster through the Elbow Method\n",
    "plt.plot(range(1,11),wcss)\n",
    "plt.title('The Elbow Method')\n",
    "plt.xlabel('Number of clusters')\n",
    "plt.ylabel('WCSS')\n",
    "plt.show()"
   ]
  },
  {
   "cell_type": "markdown",
   "metadata": {},
   "source": [
    "*Feature scaling is a technique to standardize the independent features present in the data in a fixed range. If feature scaling is not done, then a machine learning algorithm tends to weigh greater values, higher and consider smaller values as the lower values, regardless of the unit of the values.\n",
    "The two most discuss scaling methods are normalization and standardization.\n",
    "Normalization: It should be used if there are any predefined assumptions of the model. In this approach, the data is scaled to a fixed range - usually 0 to 1\n",
    "Standardization: It is used when we are dealing with multiple variables together. In this technique, the features will be rescaled so that they’ll have the properties of a standard normal distribution with (mean = 0 and sd = 1)"
   ]
  },
  {
   "cell_type": "code",
   "execution_count": 38,
   "metadata": {},
   "outputs": [],
   "source": [
    "#lets compare apple to apple; scale the data\n",
    "# initiate and fit StandardScaler function\n",
    "from sklearn.preprocessing import StandardScaler\n",
    "scale = StandardScaler().fit(data_cluster)       \n",
    "\n",
    "# scale the 'features' data\n",
    "features = scale.transform(data_cluster)"
   ]
  },
  {
   "cell_type": "code",
   "execution_count": 39,
   "metadata": {},
   "outputs": [
    {
     "data": {
      "text/html": [
       "<div>\n",
       "<style scoped>\n",
       "    .dataframe tbody tr th:only-of-type {\n",
       "        vertical-align: middle;\n",
       "    }\n",
       "\n",
       "    .dataframe tbody tr th {\n",
       "        vertical-align: top;\n",
       "    }\n",
       "\n",
       "    .dataframe thead th {\n",
       "        text-align: right;\n",
       "    }\n",
       "</style>\n",
       "<table border=\"1\" class=\"dataframe\">\n",
       "  <thead>\n",
       "    <tr style=\"text-align: right;\">\n",
       "      <th></th>\n",
       "      <th>longitude</th>\n",
       "      <th>latitude</th>\n",
       "      <th>age</th>\n",
       "      <th>phone_brand_Cat</th>\n",
       "      <th>device_model_Cat</th>\n",
       "      <th>app_id_Cat</th>\n",
       "      <th>Type_is_F</th>\n",
       "      <th>Type_is_M</th>\n",
       "      <th>Active_False</th>\n",
       "      <th>Active_True</th>\n",
       "    </tr>\n",
       "  </thead>\n",
       "  <tbody>\n",
       "    <tr>\n",
       "      <th>0</th>\n",
       "      <td>-0.801023</td>\n",
       "      <td>-0.783089</td>\n",
       "      <td>1.022483</td>\n",
       "      <td>-0.326492</td>\n",
       "      <td>1.028427</td>\n",
       "      <td>-1.545524</td>\n",
       "      <td>1.665023</td>\n",
       "      <td>-1.665023</td>\n",
       "      <td>0.801584</td>\n",
       "      <td>-0.801584</td>\n",
       "    </tr>\n",
       "    <tr>\n",
       "      <th>1</th>\n",
       "      <td>1.260530</td>\n",
       "      <td>1.722449</td>\n",
       "      <td>-1.527218</td>\n",
       "      <td>0.159832</td>\n",
       "      <td>-0.755538</td>\n",
       "      <td>0.129181</td>\n",
       "      <td>1.665023</td>\n",
       "      <td>-1.665023</td>\n",
       "      <td>-1.247529</td>\n",
       "      <td>1.247529</td>\n",
       "    </tr>\n",
       "    <tr>\n",
       "      <th>2</th>\n",
       "      <td>-0.783248</td>\n",
       "      <td>-0.719977</td>\n",
       "      <td>0.597533</td>\n",
       "      <td>-0.650708</td>\n",
       "      <td>-0.790825</td>\n",
       "      <td>1.429697</td>\n",
       "      <td>-0.600592</td>\n",
       "      <td>0.600592</td>\n",
       "      <td>-1.247529</td>\n",
       "      <td>1.247529</td>\n",
       "    </tr>\n",
       "    <tr>\n",
       "      <th>3</th>\n",
       "      <td>-0.801023</td>\n",
       "      <td>-0.783089</td>\n",
       "      <td>0.597533</td>\n",
       "      <td>-0.326492</td>\n",
       "      <td>-0.692805</td>\n",
       "      <td>-1.539427</td>\n",
       "      <td>-0.600592</td>\n",
       "      <td>0.600592</td>\n",
       "      <td>0.801584</td>\n",
       "      <td>-0.801584</td>\n",
       "    </tr>\n",
       "    <tr>\n",
       "      <th>4</th>\n",
       "      <td>-0.801023</td>\n",
       "      <td>-0.783089</td>\n",
       "      <td>1.766145</td>\n",
       "      <td>2.267237</td>\n",
       "      <td>1.161734</td>\n",
       "      <td>-1.436544</td>\n",
       "      <td>-0.600592</td>\n",
       "      <td>0.600592</td>\n",
       "      <td>0.801584</td>\n",
       "      <td>-0.801584</td>\n",
       "    </tr>\n",
       "  </tbody>\n",
       "</table>\n",
       "</div>"
      ],
      "text/plain": [
       "   longitude  latitude       age  phone_brand_Cat  device_model_Cat  \\\n",
       "0  -0.801023 -0.783089  1.022483        -0.326492          1.028427   \n",
       "1   1.260530  1.722449 -1.527218         0.159832         -0.755538   \n",
       "2  -0.783248 -0.719977  0.597533        -0.650708         -0.790825   \n",
       "3  -0.801023 -0.783089  0.597533        -0.326492         -0.692805   \n",
       "4  -0.801023 -0.783089  1.766145         2.267237          1.161734   \n",
       "\n",
       "   app_id_Cat  Type_is_F  Type_is_M  Active_False  Active_True  \n",
       "0   -1.545524   1.665023  -1.665023      0.801584    -0.801584  \n",
       "1    0.129181   1.665023  -1.665023     -1.247529     1.247529  \n",
       "2    1.429697  -0.600592   0.600592     -1.247529     1.247529  \n",
       "3   -1.539427  -0.600592   0.600592      0.801584    -0.801584  \n",
       "4   -1.436544  -0.600592   0.600592      0.801584    -0.801584  "
      ]
     },
     "execution_count": 39,
     "metadata": {},
     "output_type": "execute_result"
    }
   ],
   "source": [
    "# create a dataframe of the scaled features \n",
    "features_scaled = pd.DataFrame( features, columns= data_cluster.columns[0:10])\n",
    "\n",
    "# head() to display top five rows\n",
    "features_scaled.head()"
   ]
  },
  {
   "cell_type": "markdown",
   "metadata": {},
   "source": [
    "*We build our models using the silhouette score method. The silhouette is a method of interpretation and validation of consistency within clusters of data.\n",
    "We do not know how many clusters give the most useful results. So, we create the clusters varying K, from 3 to 6 and then decide the optimum number of clusters (K) with the help of the silhouette score"
   ]
  },
  {
   "cell_type": "code",
   "execution_count": 40,
   "metadata": {},
   "outputs": [
    {
     "name": "stdout",
     "output_type": "stream",
     "text": [
      "For n_clusters = 3, silhouette score is 0.23924235541301997)\n",
      "For n_clusters = 4, silhouette score is 0.2404290713015018)\n",
      "For n_clusters = 5, silhouette score is 0.2710075788731447)\n",
      "For n_clusters = 6, silhouette score is 0.30267441944174794)\n"
     ]
    }
   ],
   "source": [
    "#using silhouette score: Higher the value, better the cluster. Earlier run suggested 3\n",
    "from sklearn.metrics import silhouette_score\n",
    "# create a list for different values of K\n",
    "n_clusters = [3, 4, 5, 6]\n",
    "\n",
    "# use 'for' loop to build the clusters\n",
    "# 'random_state' creates the sample in the same order \n",
    "# fit and predict on the scaled data\n",
    "# 'silhouette_score' function computes the silhouette score for each K\n",
    "for K in n_clusters:\n",
    "    cluster = KMeans (n_clusters= K, random_state= 10)\n",
    "    predict = cluster.fit_predict(features_scaled)\n",
    "    \n",
    "    score = silhouette_score(features_scaled, predict, random_state= 10)\n",
    "    print (\"For n_clusters = {}, silhouette score is {})\".format(K, score))"
   ]
  },
  {
   "cell_type": "markdown",
   "metadata": {},
   "source": [
    "* The optimum value for K is associated with the high value of the 'silhouette score'. From the above output it can be seen that, for K = 6, the silhouette score is highest. Thus, we should try to build the clusters with K = 6 but we will continue with K=3 for saving time & learning purpose"
   ]
  },
  {
   "cell_type": "code",
   "execution_count": 41,
   "metadata": {},
   "outputs": [
    {
     "name": "stdout",
     "output_type": "stream",
     "text": [
      "[[-8.01546307e-01 -7.80711007e-01  4.30390950e-02  1.48186134e-01\n",
      "  -3.65690464e-02 -1.26401033e-02 -6.00592153e-01  6.00592153e-01\n",
      "  -1.13645712e-02  1.13645712e-02]\n",
      " [-1.73608828e-01 -1.62390568e-01  3.13633608e-02 -1.33188194e-01\n",
      "  -7.90264716e-02  1.93447638e-02  1.66502342e+00 -1.66502342e+00\n",
      "  -1.24343453e-01  1.24343453e-01]\n",
      " [ 1.23975375e+00  1.20181429e+00 -8.53491775e-02 -8.83687002e-02\n",
      "   1.17147556e-01  7.34968918e-04 -6.00592153e-01  6.00592153e-01\n",
      "   1.21427730e-01 -1.21427730e-01]]\n"
     ]
    }
   ],
   "source": [
    "#run raw cluster algo\n",
    "kmeans = KMeans(n_clusters=3, init = 'k-means++', max_iter = 100, n_init = 10, random_state = 0)\n",
    "kmeans = kmeans.fit(features_scaled)\n",
    "centroids = kmeans.cluster_centers_\n",
    "print(centroids)"
   ]
  },
  {
   "cell_type": "code",
   "execution_count": 42,
   "metadata": {},
   "outputs": [
    {
     "data": {
      "text/html": [
       "<div>\n",
       "<style scoped>\n",
       "    .dataframe tbody tr th:only-of-type {\n",
       "        vertical-align: middle;\n",
       "    }\n",
       "\n",
       "    .dataframe tbody tr th {\n",
       "        vertical-align: top;\n",
       "    }\n",
       "\n",
       "    .dataframe thead th {\n",
       "        text-align: right;\n",
       "    }\n",
       "</style>\n",
       "<table border=\"1\" class=\"dataframe\">\n",
       "  <thead>\n",
       "    <tr style=\"text-align: right;\">\n",
       "      <th></th>\n",
       "      <th>longitude</th>\n",
       "      <th>latitude</th>\n",
       "      <th>age</th>\n",
       "      <th>phone_brand_Cat</th>\n",
       "      <th>device_model_Cat</th>\n",
       "      <th>app_id_Cat</th>\n",
       "      <th>Type_is_F</th>\n",
       "      <th>Type_is_M</th>\n",
       "      <th>Active_False</th>\n",
       "      <th>Active_True</th>\n",
       "      <th>cluster</th>\n",
       "    </tr>\n",
       "  </thead>\n",
       "  <tbody>\n",
       "    <tr>\n",
       "      <th>32857701</th>\n",
       "      <td>0.00</td>\n",
       "      <td>0.0</td>\n",
       "      <td>43.0</td>\n",
       "      <td>21</td>\n",
       "      <td>841</td>\n",
       "      <td>892</td>\n",
       "      <td>1</td>\n",
       "      <td>0</td>\n",
       "      <td>1</td>\n",
       "      <td>0</td>\n",
       "      <td>1</td>\n",
       "    </tr>\n",
       "    <tr>\n",
       "      <th>22448040</th>\n",
       "      <td>115.98</td>\n",
       "      <td>39.7</td>\n",
       "      <td>19.0</td>\n",
       "      <td>33</td>\n",
       "      <td>386</td>\n",
       "      <td>5287</td>\n",
       "      <td>1</td>\n",
       "      <td>0</td>\n",
       "      <td>0</td>\n",
       "      <td>1</td>\n",
       "      <td>1</td>\n",
       "    </tr>\n",
       "    <tr>\n",
       "      <th>15985325</th>\n",
       "      <td>1.00</td>\n",
       "      <td>1.0</td>\n",
       "      <td>39.0</td>\n",
       "      <td>13</td>\n",
       "      <td>377</td>\n",
       "      <td>8700</td>\n",
       "      <td>0</td>\n",
       "      <td>1</td>\n",
       "      <td>0</td>\n",
       "      <td>1</td>\n",
       "      <td>0</td>\n",
       "    </tr>\n",
       "    <tr>\n",
       "      <th>19447132</th>\n",
       "      <td>0.00</td>\n",
       "      <td>0.0</td>\n",
       "      <td>39.0</td>\n",
       "      <td>21</td>\n",
       "      <td>402</td>\n",
       "      <td>908</td>\n",
       "      <td>0</td>\n",
       "      <td>1</td>\n",
       "      <td>1</td>\n",
       "      <td>0</td>\n",
       "      <td>0</td>\n",
       "    </tr>\n",
       "    <tr>\n",
       "      <th>16521766</th>\n",
       "      <td>0.00</td>\n",
       "      <td>0.0</td>\n",
       "      <td>50.0</td>\n",
       "      <td>85</td>\n",
       "      <td>875</td>\n",
       "      <td>1178</td>\n",
       "      <td>0</td>\n",
       "      <td>1</td>\n",
       "      <td>1</td>\n",
       "      <td>0</td>\n",
       "      <td>0</td>\n",
       "    </tr>\n",
       "  </tbody>\n",
       "</table>\n",
       "</div>"
      ],
      "text/plain": [
       "          longitude  latitude   age  phone_brand_Cat  device_model_Cat  \\\n",
       "32857701       0.00       0.0  43.0               21               841   \n",
       "22448040     115.98      39.7  19.0               33               386   \n",
       "15985325       1.00       1.0  39.0               13               377   \n",
       "19447132       0.00       0.0  39.0               21               402   \n",
       "16521766       0.00       0.0  50.0               85               875   \n",
       "\n",
       "          app_id_Cat  Type_is_F  Type_is_M  Active_False  Active_True  cluster  \n",
       "32857701         892          1          0             1            0        1  \n",
       "22448040        5287          1          0             0            1        1  \n",
       "15985325        8700          0          1             0            1        0  \n",
       "19447132         908          0          1             1            0        0  \n",
       "16521766        1178          0          1             1            0        0  "
      ]
     },
     "execution_count": 42,
     "metadata": {},
     "output_type": "execute_result"
    }
   ],
   "source": [
    "# add a column 'cluster' in the data giving cluster number corresponding to each observation\n",
    "data_cluster['cluster'] = kmeans.labels_\n",
    "\n",
    "# head() to display top five rows\n",
    "data_cluster.head()"
   ]
  },
  {
   "cell_type": "code",
   "execution_count": 43,
   "metadata": {},
   "outputs": [
    {
     "data": {
      "text/plain": [
       "(array([0, 1, 2]), array([259301, 162198, 190361], dtype=int64))"
      ]
     },
     "execution_count": 43,
     "metadata": {},
     "output_type": "execute_result"
    }
   ],
   "source": [
    "# 'return_counts = True' gives the number observation in each cluster\n",
    "np.unique(kmeans.labels_, return_counts=True)"
   ]
  },
  {
   "cell_type": "code",
   "execution_count": 44,
   "metadata": {},
   "outputs": [
    {
     "data": {
      "text/html": [
       "<div>\n",
       "<style scoped>\n",
       "    .dataframe tbody tr th:only-of-type {\n",
       "        vertical-align: middle;\n",
       "    }\n",
       "\n",
       "    .dataframe tbody tr th {\n",
       "        vertical-align: top;\n",
       "    }\n",
       "\n",
       "    .dataframe thead th {\n",
       "        text-align: right;\n",
       "    }\n",
       "</style>\n",
       "<table border=\"1\" class=\"dataframe\">\n",
       "  <thead>\n",
       "    <tr style=\"text-align: right;\">\n",
       "      <th></th>\n",
       "      <th>longitude</th>\n",
       "      <th>latitude</th>\n",
       "      <th>age</th>\n",
       "      <th>phone_brand_Cat</th>\n",
       "      <th>device_model_Cat</th>\n",
       "      <th>app_id_Cat</th>\n",
       "      <th>Type_is_F</th>\n",
       "      <th>Type_is_M</th>\n",
       "      <th>Active_False</th>\n",
       "      <th>Active_True</th>\n",
       "      <th>cluster</th>\n",
       "    </tr>\n",
       "  </thead>\n",
       "  <tbody>\n",
       "    <tr>\n",
       "      <th>count</th>\n",
       "      <td>611860.000000</td>\n",
       "      <td>611860.000000</td>\n",
       "      <td>611860.000000</td>\n",
       "      <td>611860.000000</td>\n",
       "      <td>611860.000000</td>\n",
       "      <td>611860.000000</td>\n",
       "      <td>611860.000000</td>\n",
       "      <td>611860.000000</td>\n",
       "      <td>611860.000000</td>\n",
       "      <td>611860.000000</td>\n",
       "      <td>611860.000000</td>\n",
       "    </tr>\n",
       "    <tr>\n",
       "      <th>mean</th>\n",
       "      <td>45.064401</td>\n",
       "      <td>12.407969</td>\n",
       "      <td>33.375504</td>\n",
       "      <td>29.056162</td>\n",
       "      <td>578.699882</td>\n",
       "      <td>4947.984475</td>\n",
       "      <td>0.265090</td>\n",
       "      <td>0.734910</td>\n",
       "      <td>0.608814</td>\n",
       "      <td>0.391186</td>\n",
       "      <td>0.887327</td>\n",
       "    </tr>\n",
       "    <tr>\n",
       "      <th>std</th>\n",
       "      <td>56.258613</td>\n",
       "      <td>15.844912</td>\n",
       "      <td>9.412878</td>\n",
       "      <td>24.674916</td>\n",
       "      <td>255.050055</td>\n",
       "      <td>2624.345238</td>\n",
       "      <td>0.441382</td>\n",
       "      <td>0.441382</td>\n",
       "      <td>0.488016</td>\n",
       "      <td>0.488016</td>\n",
       "      <td>0.849833</td>\n",
       "    </tr>\n",
       "    <tr>\n",
       "      <th>min</th>\n",
       "      <td>-180.000000</td>\n",
       "      <td>-33.800000</td>\n",
       "      <td>11.000000</td>\n",
       "      <td>0.000000</td>\n",
       "      <td>0.000000</td>\n",
       "      <td>0.000000</td>\n",
       "      <td>0.000000</td>\n",
       "      <td>0.000000</td>\n",
       "      <td>0.000000</td>\n",
       "      <td>0.000000</td>\n",
       "      <td>0.000000</td>\n",
       "    </tr>\n",
       "    <tr>\n",
       "      <th>25%</th>\n",
       "      <td>0.000000</td>\n",
       "      <td>0.000000</td>\n",
       "      <td>27.000000</td>\n",
       "      <td>10.000000</td>\n",
       "      <td>387.000000</td>\n",
       "      <td>2592.000000</td>\n",
       "      <td>0.000000</td>\n",
       "      <td>0.000000</td>\n",
       "      <td>0.000000</td>\n",
       "      <td>0.000000</td>\n",
       "      <td>0.000000</td>\n",
       "    </tr>\n",
       "    <tr>\n",
       "      <th>50%</th>\n",
       "      <td>0.000000</td>\n",
       "      <td>0.000000</td>\n",
       "      <td>31.000000</td>\n",
       "      <td>21.000000</td>\n",
       "      <td>645.000000</td>\n",
       "      <td>5197.500000</td>\n",
       "      <td>0.000000</td>\n",
       "      <td>1.000000</td>\n",
       "      <td>1.000000</td>\n",
       "      <td>0.000000</td>\n",
       "      <td>1.000000</td>\n",
       "    </tr>\n",
       "    <tr>\n",
       "      <th>75%</th>\n",
       "      <td>113.850000</td>\n",
       "      <td>30.110000</td>\n",
       "      <td>39.000000</td>\n",
       "      <td>33.000000</td>\n",
       "      <td>838.000000</td>\n",
       "      <td>7220.000000</td>\n",
       "      <td>1.000000</td>\n",
       "      <td>1.000000</td>\n",
       "      <td>1.000000</td>\n",
       "      <td>1.000000</td>\n",
       "      <td>2.000000</td>\n",
       "    </tr>\n",
       "    <tr>\n",
       "      <th>max</th>\n",
       "      <td>151.180000</td>\n",
       "      <td>53.640000</td>\n",
       "      <td>89.000000</td>\n",
       "      <td>86.000000</td>\n",
       "      <td>883.000000</td>\n",
       "      <td>8947.000000</td>\n",
       "      <td>1.000000</td>\n",
       "      <td>1.000000</td>\n",
       "      <td>1.000000</td>\n",
       "      <td>1.000000</td>\n",
       "      <td>2.000000</td>\n",
       "    </tr>\n",
       "  </tbody>\n",
       "</table>\n",
       "</div>"
      ],
      "text/plain": [
       "           longitude       latitude            age  phone_brand_Cat  \\\n",
       "count  611860.000000  611860.000000  611860.000000    611860.000000   \n",
       "mean       45.064401      12.407969      33.375504        29.056162   \n",
       "std        56.258613      15.844912       9.412878        24.674916   \n",
       "min      -180.000000     -33.800000      11.000000         0.000000   \n",
       "25%         0.000000       0.000000      27.000000        10.000000   \n",
       "50%         0.000000       0.000000      31.000000        21.000000   \n",
       "75%       113.850000      30.110000      39.000000        33.000000   \n",
       "max       151.180000      53.640000      89.000000        86.000000   \n",
       "\n",
       "       device_model_Cat     app_id_Cat      Type_is_F      Type_is_M  \\\n",
       "count     611860.000000  611860.000000  611860.000000  611860.000000   \n",
       "mean         578.699882    4947.984475       0.265090       0.734910   \n",
       "std          255.050055    2624.345238       0.441382       0.441382   \n",
       "min            0.000000       0.000000       0.000000       0.000000   \n",
       "25%          387.000000    2592.000000       0.000000       0.000000   \n",
       "50%          645.000000    5197.500000       0.000000       1.000000   \n",
       "75%          838.000000    7220.000000       1.000000       1.000000   \n",
       "max          883.000000    8947.000000       1.000000       1.000000   \n",
       "\n",
       "        Active_False    Active_True        cluster  \n",
       "count  611860.000000  611860.000000  611860.000000  \n",
       "mean        0.608814       0.391186       0.887327  \n",
       "std         0.488016       0.488016       0.849833  \n",
       "min         0.000000       0.000000       0.000000  \n",
       "25%         0.000000       0.000000       0.000000  \n",
       "50%         1.000000       0.000000       1.000000  \n",
       "75%         1.000000       1.000000       2.000000  \n",
       "max         1.000000       1.000000       2.000000  "
      ]
     },
     "execution_count": 44,
     "metadata": {},
     "output_type": "execute_result"
    }
   ],
   "source": [
    "# get summary for observations in the whole data\n",
    "data_cluster.describe()"
   ]
  },
  {
   "cell_type": "markdown",
   "metadata": {},
   "source": [
    "*we analyze all the cluster formed. Few steps are:\n",
    "\n",
    "1. Check the size of your cluster \n",
    "2. Sort the variables in the cluster \n",
    "3. Compute the statistical summary for observations in the cluster\n",
    "4. Check mean, sd, freq, modes, min, max, range..all basic central tendency numbers"
   ]
  },
  {
   "cell_type": "code",
   "execution_count": 45,
   "metadata": {},
   "outputs": [
    {
     "data": {
      "text/html": [
       "<div>\n",
       "<style scoped>\n",
       "    .dataframe tbody tr th:only-of-type {\n",
       "        vertical-align: middle;\n",
       "    }\n",
       "\n",
       "    .dataframe tbody tr th {\n",
       "        vertical-align: top;\n",
       "    }\n",
       "\n",
       "    .dataframe thead th {\n",
       "        text-align: right;\n",
       "    }\n",
       "</style>\n",
       "<table border=\"1\" class=\"dataframe\">\n",
       "  <thead>\n",
       "    <tr style=\"text-align: right;\">\n",
       "      <th></th>\n",
       "      <th>longitude</th>\n",
       "      <th>latitude</th>\n",
       "      <th>age</th>\n",
       "      <th>phone_brand_Cat</th>\n",
       "      <th>device_model_Cat</th>\n",
       "      <th>app_id_Cat</th>\n",
       "      <th>Type_is_F</th>\n",
       "      <th>Type_is_M</th>\n",
       "      <th>Active_False</th>\n",
       "      <th>Active_True</th>\n",
       "      <th>cluster</th>\n",
       "    </tr>\n",
       "  </thead>\n",
       "  <tbody>\n",
       "    <tr>\n",
       "      <th>count</th>\n",
       "      <td>259301.000000</td>\n",
       "      <td>259301.000000</td>\n",
       "      <td>259301.000000</td>\n",
       "      <td>259301.000000</td>\n",
       "      <td>259301.000000</td>\n",
       "      <td>259301.000000</td>\n",
       "      <td>259301.0</td>\n",
       "      <td>259301.0</td>\n",
       "      <td>259301.000000</td>\n",
       "      <td>259301.000000</td>\n",
       "      <td>259301.0</td>\n",
       "    </tr>\n",
       "    <tr>\n",
       "      <th>mean</th>\n",
       "      <td>-0.029446</td>\n",
       "      <td>0.037682</td>\n",
       "      <td>33.780626</td>\n",
       "      <td>32.712639</td>\n",
       "      <td>569.372953</td>\n",
       "      <td>4914.812507</td>\n",
       "      <td>0.0</td>\n",
       "      <td>1.0</td>\n",
       "      <td>0.603268</td>\n",
       "      <td>0.396732</td>\n",
       "      <td>0.0</td>\n",
       "    </tr>\n",
       "    <tr>\n",
       "      <th>std</th>\n",
       "      <td>2.883687</td>\n",
       "      <td>0.867787</td>\n",
       "      <td>9.548321</td>\n",
       "      <td>27.152156</td>\n",
       "      <td>257.871928</td>\n",
       "      <td>2633.366691</td>\n",
       "      <td>0.0</td>\n",
       "      <td>0.0</td>\n",
       "      <td>0.489220</td>\n",
       "      <td>0.489220</td>\n",
       "      <td>0.0</td>\n",
       "    </tr>\n",
       "    <tr>\n",
       "      <th>min</th>\n",
       "      <td>-180.000000</td>\n",
       "      <td>-33.800000</td>\n",
       "      <td>12.000000</td>\n",
       "      <td>0.000000</td>\n",
       "      <td>1.000000</td>\n",
       "      <td>0.000000</td>\n",
       "      <td>0.0</td>\n",
       "      <td>1.0</td>\n",
       "      <td>0.000000</td>\n",
       "      <td>0.000000</td>\n",
       "      <td>0.0</td>\n",
       "    </tr>\n",
       "    <tr>\n",
       "      <th>25%</th>\n",
       "      <td>0.000000</td>\n",
       "      <td>0.000000</td>\n",
       "      <td>27.000000</td>\n",
       "      <td>10.000000</td>\n",
       "      <td>385.000000</td>\n",
       "      <td>2554.000000</td>\n",
       "      <td>0.0</td>\n",
       "      <td>1.0</td>\n",
       "      <td>0.000000</td>\n",
       "      <td>0.000000</td>\n",
       "      <td>0.0</td>\n",
       "    </tr>\n",
       "    <tr>\n",
       "      <th>50%</th>\n",
       "      <td>0.000000</td>\n",
       "      <td>0.000000</td>\n",
       "      <td>32.000000</td>\n",
       "      <td>21.000000</td>\n",
       "      <td>556.000000</td>\n",
       "      <td>5116.000000</td>\n",
       "      <td>0.0</td>\n",
       "      <td>1.0</td>\n",
       "      <td>1.000000</td>\n",
       "      <td>0.000000</td>\n",
       "      <td>0.0</td>\n",
       "    </tr>\n",
       "    <tr>\n",
       "      <th>75%</th>\n",
       "      <td>0.000000</td>\n",
       "      <td>0.000000</td>\n",
       "      <td>39.000000</td>\n",
       "      <td>33.000000</td>\n",
       "      <td>833.000000</td>\n",
       "      <td>7141.000000</td>\n",
       "      <td>0.0</td>\n",
       "      <td>1.0</td>\n",
       "      <td>1.000000</td>\n",
       "      <td>1.000000</td>\n",
       "      <td>0.0</td>\n",
       "    </tr>\n",
       "    <tr>\n",
       "      <th>max</th>\n",
       "      <td>151.180000</td>\n",
       "      <td>45.530000</td>\n",
       "      <td>88.000000</td>\n",
       "      <td>86.000000</td>\n",
       "      <td>883.000000</td>\n",
       "      <td>8946.000000</td>\n",
       "      <td>0.0</td>\n",
       "      <td>1.0</td>\n",
       "      <td>1.000000</td>\n",
       "      <td>1.000000</td>\n",
       "      <td>0.0</td>\n",
       "    </tr>\n",
       "  </tbody>\n",
       "</table>\n",
       "</div>"
      ],
      "text/plain": [
       "           longitude       latitude            age  phone_brand_Cat  \\\n",
       "count  259301.000000  259301.000000  259301.000000    259301.000000   \n",
       "mean       -0.029446       0.037682      33.780626        32.712639   \n",
       "std         2.883687       0.867787       9.548321        27.152156   \n",
       "min      -180.000000     -33.800000      12.000000         0.000000   \n",
       "25%         0.000000       0.000000      27.000000        10.000000   \n",
       "50%         0.000000       0.000000      32.000000        21.000000   \n",
       "75%         0.000000       0.000000      39.000000        33.000000   \n",
       "max       151.180000      45.530000      88.000000        86.000000   \n",
       "\n",
       "       device_model_Cat     app_id_Cat  Type_is_F  Type_is_M   Active_False  \\\n",
       "count     259301.000000  259301.000000   259301.0   259301.0  259301.000000   \n",
       "mean         569.372953    4914.812507        0.0        1.0       0.603268   \n",
       "std          257.871928    2633.366691        0.0        0.0       0.489220   \n",
       "min            1.000000       0.000000        0.0        1.0       0.000000   \n",
       "25%          385.000000    2554.000000        0.0        1.0       0.000000   \n",
       "50%          556.000000    5116.000000        0.0        1.0       1.000000   \n",
       "75%          833.000000    7141.000000        0.0        1.0       1.000000   \n",
       "max          883.000000    8946.000000        0.0        1.0       1.000000   \n",
       "\n",
       "         Active_True   cluster  \n",
       "count  259301.000000  259301.0  \n",
       "mean        0.396732       0.0  \n",
       "std         0.489220       0.0  \n",
       "min         0.000000       0.0  \n",
       "25%         0.000000       0.0  \n",
       "50%         0.000000       0.0  \n",
       "75%         1.000000       0.0  \n",
       "max         1.000000       0.0  "
      ]
     },
     "execution_count": 45,
     "metadata": {},
     "output_type": "execute_result"
    }
   ],
   "source": [
    "# get summary for observations in the cluster\n",
    "data_cluster[data_cluster.cluster==0].describe()"
   ]
  },
  {
   "cell_type": "code",
   "execution_count": 46,
   "metadata": {},
   "outputs": [
    {
     "data": {
      "text/plain": [
       "0"
      ]
     },
     "execution_count": 46,
     "metadata": {},
     "output_type": "execute_result"
    }
   ],
   "source": [
    "# I will rename the cluster name generic, but you all should give it a intutive names like frequent users, entertainment centrics etc\n",
    "G_1=data_cluster[data_cluster.cluster==0]\n",
    "G_1.Type_is_F.sum()"
   ]
  },
  {
   "cell_type": "code",
   "execution_count": 47,
   "metadata": {},
   "outputs": [
    {
     "data": {
      "text/plain": [
       "259301"
      ]
     },
     "execution_count": 47,
     "metadata": {},
     "output_type": "execute_result"
    }
   ],
   "source": [
    "G_1.Type_is_M.sum()"
   ]
  },
  {
   "cell_type": "code",
   "execution_count": 48,
   "metadata": {},
   "outputs": [
    {
     "data": {
      "text/html": [
       "<div>\n",
       "<style scoped>\n",
       "    .dataframe tbody tr th:only-of-type {\n",
       "        vertical-align: middle;\n",
       "    }\n",
       "\n",
       "    .dataframe tbody tr th {\n",
       "        vertical-align: top;\n",
       "    }\n",
       "\n",
       "    .dataframe thead th {\n",
       "        text-align: right;\n",
       "    }\n",
       "</style>\n",
       "<table border=\"1\" class=\"dataframe\">\n",
       "  <thead>\n",
       "    <tr style=\"text-align: right;\">\n",
       "      <th></th>\n",
       "      <th>longitude</th>\n",
       "      <th>latitude</th>\n",
       "      <th>age</th>\n",
       "      <th>phone_brand_Cat</th>\n",
       "      <th>device_model_Cat</th>\n",
       "      <th>app_id_Cat</th>\n",
       "      <th>Type_is_F</th>\n",
       "      <th>Type_is_M</th>\n",
       "      <th>Active_False</th>\n",
       "      <th>Active_True</th>\n",
       "      <th>cluster</th>\n",
       "    </tr>\n",
       "  </thead>\n",
       "  <tbody>\n",
       "    <tr>\n",
       "      <th>count</th>\n",
       "      <td>162198.000000</td>\n",
       "      <td>162198.000000</td>\n",
       "      <td>162198.000000</td>\n",
       "      <td>162198.000000</td>\n",
       "      <td>162198.000000</td>\n",
       "      <td>162198.000000</td>\n",
       "      <td>162198.0</td>\n",
       "      <td>162198.0</td>\n",
       "      <td>162198.000000</td>\n",
       "      <td>162198.000000</td>\n",
       "      <td>162198.0</td>\n",
       "    </tr>\n",
       "    <tr>\n",
       "      <th>mean</th>\n",
       "      <td>35.297417</td>\n",
       "      <td>9.834907</td>\n",
       "      <td>33.670723</td>\n",
       "      <td>25.769757</td>\n",
       "      <td>558.544193</td>\n",
       "      <td>4998.751773</td>\n",
       "      <td>1.0</td>\n",
       "      <td>0.0</td>\n",
       "      <td>0.548133</td>\n",
       "      <td>0.451867</td>\n",
       "      <td>1.0</td>\n",
       "    </tr>\n",
       "    <tr>\n",
       "      <th>std</th>\n",
       "      <td>53.181822</td>\n",
       "      <td>15.136976</td>\n",
       "      <td>10.187134</td>\n",
       "      <td>23.111848</td>\n",
       "      <td>253.522257</td>\n",
       "      <td>2609.662835</td>\n",
       "      <td>0.0</td>\n",
       "      <td>0.0</td>\n",
       "      <td>0.497679</td>\n",
       "      <td>0.497679</td>\n",
       "      <td>0.0</td>\n",
       "    </tr>\n",
       "    <tr>\n",
       "      <th>min</th>\n",
       "      <td>-122.320000</td>\n",
       "      <td>-0.370000</td>\n",
       "      <td>11.000000</td>\n",
       "      <td>1.000000</td>\n",
       "      <td>0.000000</td>\n",
       "      <td>3.000000</td>\n",
       "      <td>1.0</td>\n",
       "      <td>0.0</td>\n",
       "      <td>0.000000</td>\n",
       "      <td>0.000000</td>\n",
       "      <td>1.0</td>\n",
       "    </tr>\n",
       "    <tr>\n",
       "      <th>25%</th>\n",
       "      <td>0.000000</td>\n",
       "      <td>0.000000</td>\n",
       "      <td>26.000000</td>\n",
       "      <td>10.000000</td>\n",
       "      <td>375.000000</td>\n",
       "      <td>2736.250000</td>\n",
       "      <td>1.0</td>\n",
       "      <td>0.0</td>\n",
       "      <td>0.000000</td>\n",
       "      <td>0.000000</td>\n",
       "      <td>1.0</td>\n",
       "    </tr>\n",
       "    <tr>\n",
       "      <th>50%</th>\n",
       "      <td>0.000000</td>\n",
       "      <td>0.000000</td>\n",
       "      <td>31.000000</td>\n",
       "      <td>21.000000</td>\n",
       "      <td>489.000000</td>\n",
       "      <td>5287.000000</td>\n",
       "      <td>1.0</td>\n",
       "      <td>0.0</td>\n",
       "      <td>1.000000</td>\n",
       "      <td>0.000000</td>\n",
       "      <td>1.0</td>\n",
       "    </tr>\n",
       "    <tr>\n",
       "      <th>75%</th>\n",
       "      <td>110.920000</td>\n",
       "      <td>25.860000</td>\n",
       "      <td>40.000000</td>\n",
       "      <td>33.000000</td>\n",
       "      <td>833.000000</td>\n",
       "      <td>7261.000000</td>\n",
       "      <td>1.0</td>\n",
       "      <td>0.0</td>\n",
       "      <td>1.000000</td>\n",
       "      <td>1.000000</td>\n",
       "      <td>1.0</td>\n",
       "    </tr>\n",
       "    <tr>\n",
       "      <th>max</th>\n",
       "      <td>139.560000</td>\n",
       "      <td>53.640000</td>\n",
       "      <td>89.000000</td>\n",
       "      <td>85.000000</td>\n",
       "      <td>881.000000</td>\n",
       "      <td>8947.000000</td>\n",
       "      <td>1.0</td>\n",
       "      <td>0.0</td>\n",
       "      <td>1.000000</td>\n",
       "      <td>1.000000</td>\n",
       "      <td>1.0</td>\n",
       "    </tr>\n",
       "  </tbody>\n",
       "</table>\n",
       "</div>"
      ],
      "text/plain": [
       "           longitude       latitude            age  phone_brand_Cat  \\\n",
       "count  162198.000000  162198.000000  162198.000000    162198.000000   \n",
       "mean       35.297417       9.834907      33.670723        25.769757   \n",
       "std        53.181822      15.136976      10.187134        23.111848   \n",
       "min      -122.320000      -0.370000      11.000000         1.000000   \n",
       "25%         0.000000       0.000000      26.000000        10.000000   \n",
       "50%         0.000000       0.000000      31.000000        21.000000   \n",
       "75%       110.920000      25.860000      40.000000        33.000000   \n",
       "max       139.560000      53.640000      89.000000        85.000000   \n",
       "\n",
       "       device_model_Cat     app_id_Cat  Type_is_F  Type_is_M   Active_False  \\\n",
       "count     162198.000000  162198.000000   162198.0   162198.0  162198.000000   \n",
       "mean         558.544193    4998.751773        1.0        0.0       0.548133   \n",
       "std          253.522257    2609.662835        0.0        0.0       0.497679   \n",
       "min            0.000000       3.000000        1.0        0.0       0.000000   \n",
       "25%          375.000000    2736.250000        1.0        0.0       0.000000   \n",
       "50%          489.000000    5287.000000        1.0        0.0       1.000000   \n",
       "75%          833.000000    7261.000000        1.0        0.0       1.000000   \n",
       "max          881.000000    8947.000000        1.0        0.0       1.000000   \n",
       "\n",
       "         Active_True   cluster  \n",
       "count  162198.000000  162198.0  \n",
       "mean        0.451867       1.0  \n",
       "std         0.497679       0.0  \n",
       "min         0.000000       1.0  \n",
       "25%         0.000000       1.0  \n",
       "50%         0.000000       1.0  \n",
       "75%         1.000000       1.0  \n",
       "max         1.000000       1.0  "
      ]
     },
     "execution_count": 48,
     "metadata": {},
     "output_type": "execute_result"
    }
   ],
   "source": [
    "# get summary for observations in the cluster\n",
    "data_cluster[data_cluster.cluster==1].describe()"
   ]
  },
  {
   "cell_type": "code",
   "execution_count": 49,
   "metadata": {},
   "outputs": [
    {
     "data": {
      "text/html": [
       "<div>\n",
       "<style scoped>\n",
       "    .dataframe tbody tr th:only-of-type {\n",
       "        vertical-align: middle;\n",
       "    }\n",
       "\n",
       "    .dataframe tbody tr th {\n",
       "        vertical-align: top;\n",
       "    }\n",
       "\n",
       "    .dataframe thead th {\n",
       "        text-align: right;\n",
       "    }\n",
       "</style>\n",
       "<table border=\"1\" class=\"dataframe\">\n",
       "  <thead>\n",
       "    <tr style=\"text-align: right;\">\n",
       "      <th></th>\n",
       "      <th>longitude</th>\n",
       "      <th>latitude</th>\n",
       "      <th>age</th>\n",
       "      <th>phone_brand_Cat</th>\n",
       "      <th>device_model_Cat</th>\n",
       "      <th>app_id_Cat</th>\n",
       "      <th>Type_is_F</th>\n",
       "      <th>Type_is_M</th>\n",
       "      <th>Active_False</th>\n",
       "      <th>Active_True</th>\n",
       "      <th>cluster</th>\n",
       "    </tr>\n",
       "  </thead>\n",
       "  <tbody>\n",
       "    <tr>\n",
       "      <th>count</th>\n",
       "      <td>190361.000000</td>\n",
       "      <td>190361.000000</td>\n",
       "      <td>190361.000000</td>\n",
       "      <td>190361.000000</td>\n",
       "      <td>190361.000000</td>\n",
       "      <td>190361.000000</td>\n",
       "      <td>190361.0</td>\n",
       "      <td>190361.0</td>\n",
       "      <td>190361.000000</td>\n",
       "      <td>190361.000000</td>\n",
       "      <td>190361.0</td>\n",
       "    </tr>\n",
       "    <tr>\n",
       "      <th>mean</th>\n",
       "      <td>114.811171</td>\n",
       "      <td>31.450596</td>\n",
       "      <td>32.572123</td>\n",
       "      <td>26.875673</td>\n",
       "      <td>608.578349</td>\n",
       "      <td>4949.913286</td>\n",
       "      <td>0.0</td>\n",
       "      <td>1.0</td>\n",
       "      <td>0.668073</td>\n",
       "      <td>0.331927</td>\n",
       "      <td>2.0</td>\n",
       "    </tr>\n",
       "    <tr>\n",
       "      <th>std</th>\n",
       "      <td>6.008327</td>\n",
       "      <td>5.831197</td>\n",
       "      <td>8.439870</td>\n",
       "      <td>21.574233</td>\n",
       "      <td>249.768484</td>\n",
       "      <td>2623.819751</td>\n",
       "      <td>0.0</td>\n",
       "      <td>0.0</td>\n",
       "      <td>0.470906</td>\n",
       "      <td>0.470906</td>\n",
       "      <td>0.0</td>\n",
       "    </tr>\n",
       "    <tr>\n",
       "      <th>min</th>\n",
       "      <td>6.750000</td>\n",
       "      <td>1.370000</td>\n",
       "      <td>14.000000</td>\n",
       "      <td>1.000000</td>\n",
       "      <td>1.000000</td>\n",
       "      <td>3.000000</td>\n",
       "      <td>0.0</td>\n",
       "      <td>1.0</td>\n",
       "      <td>0.000000</td>\n",
       "      <td>0.000000</td>\n",
       "      <td>2.0</td>\n",
       "    </tr>\n",
       "    <tr>\n",
       "      <th>25%</th>\n",
       "      <td>112.560000</td>\n",
       "      <td>27.570000</td>\n",
       "      <td>27.000000</td>\n",
       "      <td>14.000000</td>\n",
       "      <td>396.000000</td>\n",
       "      <td>2566.000000</td>\n",
       "      <td>0.0</td>\n",
       "      <td>1.0</td>\n",
       "      <td>0.000000</td>\n",
       "      <td>0.000000</td>\n",
       "      <td>2.0</td>\n",
       "    </tr>\n",
       "    <tr>\n",
       "      <th>50%</th>\n",
       "      <td>115.920000</td>\n",
       "      <td>31.100000</td>\n",
       "      <td>31.000000</td>\n",
       "      <td>21.000000</td>\n",
       "      <td>706.000000</td>\n",
       "      <td>5236.000000</td>\n",
       "      <td>0.0</td>\n",
       "      <td>1.0</td>\n",
       "      <td>1.000000</td>\n",
       "      <td>0.000000</td>\n",
       "      <td>2.0</td>\n",
       "    </tr>\n",
       "    <tr>\n",
       "      <th>75%</th>\n",
       "      <td>119.500000</td>\n",
       "      <td>35.790000</td>\n",
       "      <td>36.000000</td>\n",
       "      <td>33.000000</td>\n",
       "      <td>838.000000</td>\n",
       "      <td>7254.000000</td>\n",
       "      <td>0.0</td>\n",
       "      <td>1.0</td>\n",
       "      <td>1.000000</td>\n",
       "      <td>1.000000</td>\n",
       "      <td>2.0</td>\n",
       "    </tr>\n",
       "    <tr>\n",
       "      <th>max</th>\n",
       "      <td>139.430000</td>\n",
       "      <td>52.320000</td>\n",
       "      <td>88.000000</td>\n",
       "      <td>85.000000</td>\n",
       "      <td>880.000000</td>\n",
       "      <td>8945.000000</td>\n",
       "      <td>0.0</td>\n",
       "      <td>1.0</td>\n",
       "      <td>1.000000</td>\n",
       "      <td>1.000000</td>\n",
       "      <td>2.0</td>\n",
       "    </tr>\n",
       "  </tbody>\n",
       "</table>\n",
       "</div>"
      ],
      "text/plain": [
       "           longitude       latitude            age  phone_brand_Cat  \\\n",
       "count  190361.000000  190361.000000  190361.000000    190361.000000   \n",
       "mean      114.811171      31.450596      32.572123        26.875673   \n",
       "std         6.008327       5.831197       8.439870        21.574233   \n",
       "min         6.750000       1.370000      14.000000         1.000000   \n",
       "25%       112.560000      27.570000      27.000000        14.000000   \n",
       "50%       115.920000      31.100000      31.000000        21.000000   \n",
       "75%       119.500000      35.790000      36.000000        33.000000   \n",
       "max       139.430000      52.320000      88.000000        85.000000   \n",
       "\n",
       "       device_model_Cat     app_id_Cat  Type_is_F  Type_is_M   Active_False  \\\n",
       "count     190361.000000  190361.000000   190361.0   190361.0  190361.000000   \n",
       "mean         608.578349    4949.913286        0.0        1.0       0.668073   \n",
       "std          249.768484    2623.819751        0.0        0.0       0.470906   \n",
       "min            1.000000       3.000000        0.0        1.0       0.000000   \n",
       "25%          396.000000    2566.000000        0.0        1.0       0.000000   \n",
       "50%          706.000000    5236.000000        0.0        1.0       1.000000   \n",
       "75%          838.000000    7254.000000        0.0        1.0       1.000000   \n",
       "max          880.000000    8945.000000        0.0        1.0       1.000000   \n",
       "\n",
       "         Active_True   cluster  \n",
       "count  190361.000000  190361.0  \n",
       "mean        0.331927       2.0  \n",
       "std         0.470906       0.0  \n",
       "min         0.000000       2.0  \n",
       "25%         0.000000       2.0  \n",
       "50%         0.000000       2.0  \n",
       "75%         1.000000       2.0  \n",
       "max         1.000000       2.0  "
      ]
     },
     "execution_count": 49,
     "metadata": {},
     "output_type": "execute_result"
    }
   ],
   "source": [
    "# get summary for observations in the cluster\n",
    "data_cluster[data_cluster.cluster==2].describe()"
   ]
  },
  {
   "cell_type": "code",
   "execution_count": 50,
   "metadata": {},
   "outputs": [
    {
     "data": {
      "text/plain": [
       "KMeans(algorithm='auto', copy_x=True, init='k-means++', max_iter=300,\n",
       "       n_clusters=4, n_init=10, n_jobs=None, precompute_distances='auto',\n",
       "       random_state=None, tol=0.0001, verbose=0)"
      ]
     },
     "execution_count": 50,
     "metadata": {},
     "output_type": "execute_result"
    }
   ],
   "source": [
    "#not good, lets fit for 4 cluster\n",
    "KMeans(n_clusters=4).fit(features_scaled)"
   ]
  },
  {
   "cell_type": "code",
   "execution_count": 51,
   "metadata": {},
   "outputs": [
    {
     "data": {
      "image/png": "[encoded data removed]",
      "text/plain": [
       "<Figure size 432x288 with 1 Axes>"
      ]
     },
     "metadata": {
      "needs_background": "light"
     },
     "output_type": "display_data"
    }
   ],
   "source": [
    "plt.scatter(data_cluster['age'], data_cluster['longitude'], c= kmeans.labels_.astype(float), s=50, alpha=0.5)\n",
    "plt.scatter(centroids[:, 0], centroids[:, 1], c='red', s=50)\n",
    "plt.show()"
   ]
  },
  {
   "cell_type": "markdown",
   "metadata": {},
   "source": [
    "* Kmode way"
   ]
  },
  {
   "cell_type": "markdown",
   "metadata": {},
   "source": [
    "#!pip install kmodes\n",
    "#We have lots of categorical varibles, so let's try k-modes (Gower’s similarity coefficient)\n",
    "#In K-modes algorithm, distance is measured by the number of common categorical attributes shared by the two data points"
   ]
  },
  {
   "cell_type": "markdown",
   "metadata": {},
   "source": [
    "*There are lots of different cluster algorithm are available. Suggest you to read & try everything. Some popular are K Means, Agglomerative clustering, DBSCAN, Spectral clustering, Gaussian Mixtures, K-mode, Squeezer, CACTUS, ROCK, ..many more"
   ]
  },
  {
   "cell_type": "code",
   "execution_count": 52,
   "metadata": {},
   "outputs": [
    {
     "name": "stdout",
     "output_type": "stream",
     "text": [
      "Init: initializing centroids\n",
      "Init: initializing clusters\n",
      "Starting iterations...\n",
      "Run 1, iteration: 1/100, moves: 9297, cost: 3022174.0\n",
      "Init: initializing centroids\n",
      "Init: initializing clusters\n",
      "Starting iterations...\n",
      "Run 2, iteration: 1/100, moves: 16583, cost: 2905462.0\n",
      "Init: initializing centroids\n",
      "Init: initializing clusters\n",
      "Starting iterations...\n",
      "Run 3, iteration: 1/100, moves: 17155, cost: 2700133.0\n",
      "Init: initializing centroids\n",
      "Init: initializing clusters\n",
      "Starting iterations...\n",
      "Run 4, iteration: 1/100, moves: 103881, cost: 2784777.0\n",
      "Run 4, iteration: 2/100, moves: 7897, cost: 2784777.0\n",
      "Init: initializing centroids\n",
      "Init: initializing clusters\n",
      "Starting iterations...\n",
      "Run 5, iteration: 1/100, moves: 121527, cost: 2649132.0\n",
      "Run 5, iteration: 2/100, moves: 7831, cost: 2648792.0\n",
      "Run 5, iteration: 3/100, moves: 25, cost: 2648792.0\n",
      "Best run was number 5\n",
      "[[-0.80102291 -0.7830892  -0.46484273 -0.32649222  1.01666447  1.42969703\n",
      "  -0.60059215  0.60059215 -1.24752932  1.24752932]\n",
      " [-0.80102291 -0.7830892  -0.46484273  0.15983202  0.95001084  0.55443037\n",
      "   1.66502342 -1.66502342  0.80158437 -0.80158437]\n",
      " [-0.80102291 -0.7830892  -0.46484273 -0.32649222 -0.75161732  0.55443037\n",
      "  -0.60059215  0.60059215  0.80158437 -0.80158437]\n",
      " [-0.80102291 -0.7830892  -0.78355531 -0.32649222  1.01666447  1.42969703\n",
      "   1.66502342 -1.66502342 -1.24752932  1.24752932]]\n"
     ]
    }
   ],
   "source": [
    "from kmodes.kmodes import KModes\n",
    "km = KModes(n_clusters=4, init='Huang', n_init=5, verbose=1)\n",
    "\n",
    "clusters = km.fit_predict(features_scaled)\n",
    "\n",
    "# Print the cluster centroids\n",
    "print(km.cluster_centroids_)"
   ]
  },
  {
   "cell_type": "code",
   "execution_count": 53,
   "metadata": {},
   "outputs": [
    {
     "data": {
      "text/html": [
       "<div>\n",
       "<style scoped>\n",
       "    .dataframe tbody tr th:only-of-type {\n",
       "        vertical-align: middle;\n",
       "    }\n",
       "\n",
       "    .dataframe tbody tr th {\n",
       "        vertical-align: top;\n",
       "    }\n",
       "\n",
       "    .dataframe thead th {\n",
       "        text-align: right;\n",
       "    }\n",
       "</style>\n",
       "<table border=\"1\" class=\"dataframe\">\n",
       "  <thead>\n",
       "    <tr style=\"text-align: right;\">\n",
       "      <th></th>\n",
       "      <th>event_id</th>\n",
       "      <th>device_id</th>\n",
       "      <th>longitude</th>\n",
       "      <th>latitude</th>\n",
       "      <th>phone_brand</th>\n",
       "      <th>device_model</th>\n",
       "      <th>age</th>\n",
       "      <th>group</th>\n",
       "      <th>app_id</th>\n",
       "      <th>phone_brand_Cat</th>\n",
       "      <th>device_model_Cat</th>\n",
       "      <th>app_id_Cat</th>\n",
       "      <th>Type_is_F</th>\n",
       "      <th>Type_is_M</th>\n",
       "      <th>Active_False</th>\n",
       "      <th>Active_True</th>\n",
       "      <th>cluster</th>\n",
       "    </tr>\n",
       "  </thead>\n",
       "  <tbody>\n",
       "    <tr>\n",
       "      <th>32857701</th>\n",
       "      <td>3114209</td>\n",
       "      <td>3517190067519579513</td>\n",
       "      <td>0.00</td>\n",
       "      <td>0.0</td>\n",
       "      <td>华为</td>\n",
       "      <td>荣耀7</td>\n",
       "      <td>43.0</td>\n",
       "      <td>F43+</td>\n",
       "      <td>-7.164737e+18</td>\n",
       "      <td>21</td>\n",
       "      <td>841</td>\n",
       "      <td>892</td>\n",
       "      <td>1</td>\n",
       "      <td>0</td>\n",
       "      <td>1</td>\n",
       "      <td>0</td>\n",
       "      <td>1</td>\n",
       "    </tr>\n",
       "    <tr>\n",
       "      <th>22448040</th>\n",
       "      <td>2133414</td>\n",
       "      <td>8424302192542364410</td>\n",
       "      <td>115.98</td>\n",
       "      <td>39.7</td>\n",
       "      <td>小米</td>\n",
       "      <td>MI 3</td>\n",
       "      <td>19.0</td>\n",
       "      <td>F23-</td>\n",
       "      <td>1.665047e+18</td>\n",
       "      <td>33</td>\n",
       "      <td>386</td>\n",
       "      <td>5287</td>\n",
       "      <td>1</td>\n",
       "      <td>0</td>\n",
       "      <td>0</td>\n",
       "      <td>1</td>\n",
       "      <td>3</td>\n",
       "    </tr>\n",
       "    <tr>\n",
       "      <th>15985325</th>\n",
       "      <td>1515795</td>\n",
       "      <td>-8939747905316946109</td>\n",
       "      <td>1.00</td>\n",
       "      <td>1.0</td>\n",
       "      <td>中国移动</td>\n",
       "      <td>M812C</td>\n",
       "      <td>39.0</td>\n",
       "      <td>M39+</td>\n",
       "      <td>8.693964e+18</td>\n",
       "      <td>13</td>\n",
       "      <td>377</td>\n",
       "      <td>8700</td>\n",
       "      <td>0</td>\n",
       "      <td>1</td>\n",
       "      <td>0</td>\n",
       "      <td>1</td>\n",
       "      <td>0</td>\n",
       "    </tr>\n",
       "    <tr>\n",
       "      <th>19447132</th>\n",
       "      <td>1846678</td>\n",
       "      <td>-8367857271888126570</td>\n",
       "      <td>0.00</td>\n",
       "      <td>0.0</td>\n",
       "      <td>华为</td>\n",
       "      <td>Mate 7</td>\n",
       "      <td>39.0</td>\n",
       "      <td>M39+</td>\n",
       "      <td>-7.127996e+18</td>\n",
       "      <td>21</td>\n",
       "      <td>402</td>\n",
       "      <td>908</td>\n",
       "      <td>0</td>\n",
       "      <td>1</td>\n",
       "      <td>1</td>\n",
       "      <td>0</td>\n",
       "      <td>2</td>\n",
       "    </tr>\n",
       "    <tr>\n",
       "      <th>16521766</th>\n",
       "      <td>1570007</td>\n",
       "      <td>-8161910503433321023</td>\n",
       "      <td>0.00</td>\n",
       "      <td>0.0</td>\n",
       "      <td>魅族</td>\n",
       "      <td>魅蓝metal</td>\n",
       "      <td>50.0</td>\n",
       "      <td>M39+</td>\n",
       "      <td>-6.590030e+18</td>\n",
       "      <td>85</td>\n",
       "      <td>875</td>\n",
       "      <td>1178</td>\n",
       "      <td>0</td>\n",
       "      <td>1</td>\n",
       "      <td>1</td>\n",
       "      <td>0</td>\n",
       "      <td>2</td>\n",
       "    </tr>\n",
       "  </tbody>\n",
       "</table>\n",
       "</div>"
      ],
      "text/plain": [
       "          event_id            device_id  longitude  latitude phone_brand  \\\n",
       "32857701   3114209  3517190067519579513       0.00       0.0          华为   \n",
       "22448040   2133414  8424302192542364410     115.98      39.7          小米   \n",
       "15985325   1515795 -8939747905316946109       1.00       1.0        中国移动   \n",
       "19447132   1846678 -8367857271888126570       0.00       0.0          华为   \n",
       "16521766   1570007 -8161910503433321023       0.00       0.0          魅族   \n",
       "\n",
       "         device_model   age group        app_id  phone_brand_Cat  \\\n",
       "32857701          荣耀7  43.0  F43+ -7.164737e+18               21   \n",
       "22448040         MI 3  19.0  F23-  1.665047e+18               33   \n",
       "15985325        M812C  39.0  M39+  8.693964e+18               13   \n",
       "19447132       Mate 7  39.0  M39+ -7.127996e+18               21   \n",
       "16521766      魅蓝metal  50.0  M39+ -6.590030e+18               85   \n",
       "\n",
       "          device_model_Cat  app_id_Cat  Type_is_F  Type_is_M  Active_False  \\\n",
       "32857701               841         892          1          0             1   \n",
       "22448040               386        5287          1          0             0   \n",
       "15985325               377        8700          0          1             0   \n",
       "19447132               402         908          0          1             1   \n",
       "16521766               875        1178          0          1             1   \n",
       "\n",
       "          Active_True  cluster  \n",
       "32857701            0        1  \n",
       "22448040            1        3  \n",
       "15985325            1        0  \n",
       "19447132            0        2  \n",
       "16521766            0        2  "
      ]
     },
     "execution_count": 53,
     "metadata": {},
     "output_type": "execute_result"
    }
   ],
   "source": [
    "# add a column 'cluster' in the data giving cluster number corresponding to each observation\n",
    "data_touse['cluster'] = km.labels_\n",
    "\n",
    "# head() to display top five rows\n",
    "data_touse.head()"
   ]
  },
  {
   "cell_type": "code",
   "execution_count": 54,
   "metadata": {},
   "outputs": [
    {
     "data": {
      "image/png": "[encoded data removed]",
      "text/plain": [
       "<Figure size 432x288 with 1 Axes>"
      ]
     },
     "metadata": {
      "needs_background": "light"
     },
     "output_type": "display_data"
    }
   ],
   "source": [
    "plt.scatter(data_touse['age'], data_touse['latitude'], c= km.labels_.astype(float), s=50, alpha=0.5)\n",
    "plt.scatter(centroids[:,6], centroids[:,3], c='red', s=50)\n",
    "plt.show()"
   ]
  },
  {
   "cell_type": "code",
   "execution_count": 55,
   "metadata": {},
   "outputs": [],
   "source": [
    "# lets use few data columns\n",
    "data_cluster_new= data_cluster.drop(['device_model_Cat','app_id_Cat','phone_brand_Cat'],axis=1)"
   ]
  },
  {
   "cell_type": "code",
   "execution_count": 56,
   "metadata": {},
   "outputs": [],
   "source": [
    "#lets do dimension reduction using PCA\n",
    "from sklearn.decomposition import PCA"
   ]
  },
  {
   "cell_type": "code",
   "execution_count": 57,
   "metadata": {},
   "outputs": [],
   "source": [
    "# i am restricting to 2 component but you all should do proper pca to find out optimum number of component\n",
    "pca_reducer = PCA(n_components=2)\n",
    "reduced_data = pca_reducer.fit_transform(features_scaled)"
   ]
  },
  {
   "cell_type": "code",
   "execution_count": 58,
   "metadata": {},
   "outputs": [
    {
     "data": {
      "text/plain": [
       "(611860, 2)"
      ]
     },
     "execution_count": 58,
     "metadata": {},
     "output_type": "execute_result"
    }
   ],
   "source": [
    "reduced_data.shape"
   ]
  },
  {
   "cell_type": "code",
   "execution_count": 59,
   "metadata": {},
   "outputs": [],
   "source": [
    "# Let's try again with K means\n",
    "km = KMeans(n_clusters=3,random_state = 108)\n",
    "cluster = km.fit(reduced_data)"
   ]
  },
  {
   "cell_type": "code",
   "execution_count": 60,
   "metadata": {},
   "outputs": [
    {
     "data": {
      "image/png": "[encoded data removed]",
      "text/plain": [
       "<Figure size 432x288 with 1 Axes>"
      ]
     },
     "metadata": {
      "needs_background": "light"
     },
     "output_type": "display_data"
    }
   ],
   "source": [
    "# Good improvement..good to go\n",
    "plt.scatter(reduced_data[:, 0], reduced_data[:, 1], label='Datarecords')\n",
    "plt.scatter(cluster.cluster_centers_[:, 0], cluster.cluster_centers_[:, 1], label='Clusters')\n",
    "plt.title(\"PCA version of KMeans\")\n",
    "plt.legend()\n",
    "plt.show()"
   ]
  },
  {
   "cell_type": "code",
   "execution_count": 61,
   "metadata": {},
   "outputs": [
    {
     "data": {
      "text/html": [
       "<div>\n",
       "<style scoped>\n",
       "    .dataframe tbody tr th:only-of-type {\n",
       "        vertical-align: middle;\n",
       "    }\n",
       "\n",
       "    .dataframe tbody tr th {\n",
       "        vertical-align: top;\n",
       "    }\n",
       "\n",
       "    .dataframe thead th {\n",
       "        text-align: right;\n",
       "    }\n",
       "</style>\n",
       "<table border=\"1\" class=\"dataframe\">\n",
       "  <thead>\n",
       "    <tr style=\"text-align: right;\">\n",
       "      <th></th>\n",
       "      <th>event_id</th>\n",
       "      <th>device_id</th>\n",
       "      <th>longitude</th>\n",
       "      <th>latitude</th>\n",
       "      <th>phone_brand</th>\n",
       "      <th>device_model</th>\n",
       "      <th>age</th>\n",
       "      <th>group</th>\n",
       "      <th>app_id</th>\n",
       "      <th>phone_brand_Cat</th>\n",
       "      <th>device_model_Cat</th>\n",
       "      <th>app_id_Cat</th>\n",
       "      <th>Type_is_F</th>\n",
       "      <th>Type_is_M</th>\n",
       "      <th>Active_False</th>\n",
       "      <th>Active_True</th>\n",
       "      <th>cluster</th>\n",
       "    </tr>\n",
       "  </thead>\n",
       "  <tbody>\n",
       "    <tr>\n",
       "      <th>32857701</th>\n",
       "      <td>3114209</td>\n",
       "      <td>3517190067519579513</td>\n",
       "      <td>0.00</td>\n",
       "      <td>0.0</td>\n",
       "      <td>华为</td>\n",
       "      <td>荣耀7</td>\n",
       "      <td>43.0</td>\n",
       "      <td>F43+</td>\n",
       "      <td>-7.164737e+18</td>\n",
       "      <td>21</td>\n",
       "      <td>841</td>\n",
       "      <td>892</td>\n",
       "      <td>1</td>\n",
       "      <td>0</td>\n",
       "      <td>1</td>\n",
       "      <td>0</td>\n",
       "      <td>2</td>\n",
       "    </tr>\n",
       "    <tr>\n",
       "      <th>22448040</th>\n",
       "      <td>2133414</td>\n",
       "      <td>8424302192542364410</td>\n",
       "      <td>115.98</td>\n",
       "      <td>39.7</td>\n",
       "      <td>小米</td>\n",
       "      <td>MI 3</td>\n",
       "      <td>19.0</td>\n",
       "      <td>F23-</td>\n",
       "      <td>1.665047e+18</td>\n",
       "      <td>33</td>\n",
       "      <td>386</td>\n",
       "      <td>5287</td>\n",
       "      <td>1</td>\n",
       "      <td>0</td>\n",
       "      <td>0</td>\n",
       "      <td>1</td>\n",
       "      <td>0</td>\n",
       "    </tr>\n",
       "    <tr>\n",
       "      <th>15985325</th>\n",
       "      <td>1515795</td>\n",
       "      <td>-8939747905316946109</td>\n",
       "      <td>1.00</td>\n",
       "      <td>1.0</td>\n",
       "      <td>中国移动</td>\n",
       "      <td>M812C</td>\n",
       "      <td>39.0</td>\n",
       "      <td>M39+</td>\n",
       "      <td>8.693964e+18</td>\n",
       "      <td>13</td>\n",
       "      <td>377</td>\n",
       "      <td>8700</td>\n",
       "      <td>0</td>\n",
       "      <td>1</td>\n",
       "      <td>0</td>\n",
       "      <td>1</td>\n",
       "      <td>0</td>\n",
       "    </tr>\n",
       "    <tr>\n",
       "      <th>19447132</th>\n",
       "      <td>1846678</td>\n",
       "      <td>-8367857271888126570</td>\n",
       "      <td>0.00</td>\n",
       "      <td>0.0</td>\n",
       "      <td>华为</td>\n",
       "      <td>Mate 7</td>\n",
       "      <td>39.0</td>\n",
       "      <td>M39+</td>\n",
       "      <td>-7.127996e+18</td>\n",
       "      <td>21</td>\n",
       "      <td>402</td>\n",
       "      <td>908</td>\n",
       "      <td>0</td>\n",
       "      <td>1</td>\n",
       "      <td>1</td>\n",
       "      <td>0</td>\n",
       "      <td>2</td>\n",
       "    </tr>\n",
       "    <tr>\n",
       "      <th>16521766</th>\n",
       "      <td>1570007</td>\n",
       "      <td>-8161910503433321023</td>\n",
       "      <td>0.00</td>\n",
       "      <td>0.0</td>\n",
       "      <td>魅族</td>\n",
       "      <td>魅蓝metal</td>\n",
       "      <td>50.0</td>\n",
       "      <td>M39+</td>\n",
       "      <td>-6.590030e+18</td>\n",
       "      <td>85</td>\n",
       "      <td>875</td>\n",
       "      <td>1178</td>\n",
       "      <td>0</td>\n",
       "      <td>1</td>\n",
       "      <td>1</td>\n",
       "      <td>0</td>\n",
       "      <td>2</td>\n",
       "    </tr>\n",
       "  </tbody>\n",
       "</table>\n",
       "</div>"
      ],
      "text/plain": [
       "          event_id            device_id  longitude  latitude phone_brand  \\\n",
       "32857701   3114209  3517190067519579513       0.00       0.0          华为   \n",
       "22448040   2133414  8424302192542364410     115.98      39.7          小米   \n",
       "15985325   1515795 -8939747905316946109       1.00       1.0        中国移动   \n",
       "19447132   1846678 -8367857271888126570       0.00       0.0          华为   \n",
       "16521766   1570007 -8161910503433321023       0.00       0.0          魅族   \n",
       "\n",
       "         device_model   age group        app_id  phone_brand_Cat  \\\n",
       "32857701          荣耀7  43.0  F43+ -7.164737e+18               21   \n",
       "22448040         MI 3  19.0  F23-  1.665047e+18               33   \n",
       "15985325        M812C  39.0  M39+  8.693964e+18               13   \n",
       "19447132       Mate 7  39.0  M39+ -7.127996e+18               21   \n",
       "16521766      魅蓝metal  50.0  M39+ -6.590030e+18               85   \n",
       "\n",
       "          device_model_Cat  app_id_Cat  Type_is_F  Type_is_M  Active_False  \\\n",
       "32857701               841         892          1          0             1   \n",
       "22448040               386        5287          1          0             0   \n",
       "15985325               377        8700          0          1             0   \n",
       "19447132               402         908          0          1             1   \n",
       "16521766               875        1178          0          1             1   \n",
       "\n",
       "          Active_True  cluster  \n",
       "32857701            0        2  \n",
       "22448040            1        0  \n",
       "15985325            1        0  \n",
       "19447132            0        2  \n",
       "16521766            0        2  "
      ]
     },
     "execution_count": 61,
     "metadata": {},
     "output_type": "execute_result"
    }
   ],
   "source": [
    "#Add labels back to original data\n",
    "data_touse['cluster'] = cluster.labels_\n",
    "\n",
    "# head() to display top five rows\n",
    "data_touse.head()"
   ]
  },
  {
   "cell_type": "code",
   "execution_count": 62,
   "metadata": {},
   "outputs": [
    {
     "data": {
      "image/png": "[encoded data removed]",
      "text/plain": [
       "<Figure size 432x288 with 1 Axes>"
      ]
     },
     "metadata": {
      "needs_background": "light"
     },
     "output_type": "display_data"
    }
   ],
   "source": [
    "import seaborn as sns\n",
    "sns.countplot(data= data_touse, x = 'cluster')\n",
    "\n",
    "# give a name to the y-axis\n",
    "plt.ylabel('No. of User')         \n",
    "\n",
    "# add values in the graph\n",
    "plt.text(x = -0.15, y =2000, s = np.unique(cluster.labels_, return_counts=True)[1][0])\n",
    "plt.text(x = 0.8, y =2000, s = np.unique(cluster.labels_, return_counts=True)[1][1])\n",
    "plt.text(x = 1.9, y =2000, s = np.unique(cluster.labels_, return_counts=True)[1][2])\n",
    "\n",
    "plt.show()"
   ]
  },
  {
   "cell_type": "code",
   "execution_count": 63,
   "metadata": {},
   "outputs": [
    {
     "data": {
      "text/html": [
       "<div>\n",
       "<style scoped>\n",
       "    .dataframe tbody tr th:only-of-type {\n",
       "        vertical-align: middle;\n",
       "    }\n",
       "\n",
       "    .dataframe tbody tr th {\n",
       "        vertical-align: top;\n",
       "    }\n",
       "\n",
       "    .dataframe thead th {\n",
       "        text-align: right;\n",
       "    }\n",
       "</style>\n",
       "<table border=\"1\" class=\"dataframe\">\n",
       "  <thead>\n",
       "    <tr style=\"text-align: right;\">\n",
       "      <th></th>\n",
       "      <th>event_id</th>\n",
       "      <th>device_id</th>\n",
       "      <th>longitude</th>\n",
       "      <th>latitude</th>\n",
       "      <th>phone_brand</th>\n",
       "      <th>device_model</th>\n",
       "      <th>age</th>\n",
       "      <th>group</th>\n",
       "      <th>app_id</th>\n",
       "      <th>phone_brand_Cat</th>\n",
       "      <th>device_model_Cat</th>\n",
       "      <th>app_id_Cat</th>\n",
       "      <th>Type_is_F</th>\n",
       "      <th>Type_is_M</th>\n",
       "      <th>Active_False</th>\n",
       "      <th>Active_True</th>\n",
       "      <th>cluster</th>\n",
       "    </tr>\n",
       "  </thead>\n",
       "  <tbody>\n",
       "    <tr>\n",
       "      <th>22448040</th>\n",
       "      <td>2133414</td>\n",
       "      <td>8424302192542364410</td>\n",
       "      <td>115.98</td>\n",
       "      <td>39.7</td>\n",
       "      <td>小米</td>\n",
       "      <td>MI 3</td>\n",
       "      <td>19.0</td>\n",
       "      <td>F23-</td>\n",
       "      <td>1.665047e+18</td>\n",
       "      <td>33</td>\n",
       "      <td>386</td>\n",
       "      <td>5287</td>\n",
       "      <td>1</td>\n",
       "      <td>0</td>\n",
       "      <td>0</td>\n",
       "      <td>1</td>\n",
       "      <td>0</td>\n",
       "    </tr>\n",
       "    <tr>\n",
       "      <th>15985325</th>\n",
       "      <td>1515795</td>\n",
       "      <td>-8939747905316946109</td>\n",
       "      <td>1.00</td>\n",
       "      <td>1.0</td>\n",
       "      <td>中国移动</td>\n",
       "      <td>M812C</td>\n",
       "      <td>39.0</td>\n",
       "      <td>M39+</td>\n",
       "      <td>8.693964e+18</td>\n",
       "      <td>13</td>\n",
       "      <td>377</td>\n",
       "      <td>8700</td>\n",
       "      <td>0</td>\n",
       "      <td>1</td>\n",
       "      <td>0</td>\n",
       "      <td>1</td>\n",
       "      <td>0</td>\n",
       "    </tr>\n",
       "    <tr>\n",
       "      <th>11514268</th>\n",
       "      <td>1094235</td>\n",
       "      <td>-3918456107891096933</td>\n",
       "      <td>0.00</td>\n",
       "      <td>0.0</td>\n",
       "      <td>华为</td>\n",
       "      <td>荣耀6 Plus</td>\n",
       "      <td>35.0</td>\n",
       "      <td>M32-38</td>\n",
       "      <td>-7.615808e+18</td>\n",
       "      <td>21</td>\n",
       "      <td>839</td>\n",
       "      <td>695</td>\n",
       "      <td>0</td>\n",
       "      <td>1</td>\n",
       "      <td>0</td>\n",
       "      <td>1</td>\n",
       "      <td>0</td>\n",
       "    </tr>\n",
       "  </tbody>\n",
       "</table>\n",
       "</div>"
      ],
      "text/plain": [
       "          event_id            device_id  longitude  latitude phone_brand  \\\n",
       "22448040   2133414  8424302192542364410     115.98      39.7          小米   \n",
       "15985325   1515795 -8939747905316946109       1.00       1.0        中国移动   \n",
       "11514268   1094235 -3918456107891096933       0.00       0.0          华为   \n",
       "\n",
       "         device_model   age   group        app_id  phone_brand_Cat  \\\n",
       "22448040         MI 3  19.0    F23-  1.665047e+18               33   \n",
       "15985325        M812C  39.0    M39+  8.693964e+18               13   \n",
       "11514268     荣耀6 Plus  35.0  M32-38 -7.615808e+18               21   \n",
       "\n",
       "          device_model_Cat  app_id_Cat  Type_is_F  Type_is_M  Active_False  \\\n",
       "22448040               386        5287          1          0             0   \n",
       "15985325               377        8700          0          1             0   \n",
       "11514268               839         695          0          1             0   \n",
       "\n",
       "          Active_True  cluster  \n",
       "22448040            1        0  \n",
       "15985325            1        0  \n",
       "11514268            1        0  "
      ]
     },
     "execution_count": 63,
     "metadata": {},
     "output_type": "execute_result"
    }
   ],
   "source": [
    "G_1=data_touse[data_touse.cluster==0]\n",
    "G_1.head(3)"
   ]
  },
  {
   "cell_type": "code",
   "execution_count": 64,
   "metadata": {},
   "outputs": [
    {
     "name": "stdout",
     "output_type": "stream",
     "text": [
      "In cluster zero we have: 176174 customers\n",
      "Average age for customers in cluster zero: 33.711994959528646\n",
      "Deviation of the mean for age for customers in cluster zero: 9.76336312245047\n",
      "We have 102882 male\n",
      "We have 73292 female\n"
     ]
    }
   ],
   "source": [
    "print(\"In cluster zero we have: {} customers\".format(G_1.shape[0]))\n",
    "print(\"Average age for customers in cluster zero: {}\".format(np.array(G_1['age']).mean()))\n",
    "print(\"Deviation of the mean for age for customers in cluster zero: {}\".format(np.array(G_1['age']).std()))\n",
    "print(\"We have {} male\".format((G_1['Type_is_M'] == 1).sum()))\n",
    "print(\"We have {} female\".format((G_1['Type_is_F'] == 1).sum()))"
   ]
  },
  {
   "cell_type": "code",
   "execution_count": 65,
   "metadata": {},
   "outputs": [
    {
     "name": "stdout",
     "output_type": "stream",
     "text": [
      "In cluster one we have: 190718 customers\n",
      "Average age for customers in cluster one: 32.5630407198062\n",
      "Deviation of the mean for age for customers in cluster one: 8.441216888784515\n",
      "We have 190347 male\n",
      "We have 371 female\n"
     ]
    }
   ],
   "source": [
    "G_2=data_touse[data_touse.cluster==1]\n",
    "print(\"In cluster one we have: {} customers\".format(G_2.shape[0]))\n",
    "print(\"Average age for customers in cluster one: {}\".format(np.array(G_2['age']).mean()))\n",
    "print(\"Deviation of the mean for age for customers in cluster one: {}\".format(np.array(G_2['age']).std()))\n",
    "print(\"We have {} male\".format((G_2['Type_is_M'] == 1).sum()))\n",
    "print(\"We have {} female\".format((G_2['Type_is_F'] == 1).sum()))"
   ]
  },
  {
   "cell_type": "code",
   "execution_count": 66,
   "metadata": {},
   "outputs": [
    {
     "name": "stdout",
     "output_type": "stream",
     "text": [
      "In cluster two we have: 244968 customers\n",
      "Average age for customers in cluster two: 33.76604699389308\n",
      "Deviation of the mean for age for customers in cluster two: 9.824802386756309\n",
      "We have 156433 male\n",
      "We have 88535 female\n"
     ]
    }
   ],
   "source": [
    "G_3=data_touse[data_touse.cluster==2]\n",
    "print(\"In cluster two we have: {} customers\".format(G_3.shape[0]))\n",
    "print(\"Average age for customers in cluster two: {}\".format(np.array(G_3['age']).mean()))\n",
    "print(\"Deviation of the mean for age for customers in cluster two: {}\".format(np.array(G_3['age']).std()))\n",
    "print(\"We have {} male\".format((G_3['Type_is_M'] == 1).sum()))\n",
    "print(\"We have {} female\".format((G_3['Type_is_F'] == 1).sum()))"
   ]
  },
  {
   "cell_type": "code",
   "execution_count": 67,
   "metadata": {},
   "outputs": [
    {
     "data": {
      "text/plain": [
       "华为      60134\n",
       "三星      25123\n",
       "OPPO    17896\n",
       "小米      17753\n",
       "魅族      13838\n",
       "酷派      10622\n",
       "vivo     7015\n",
       "联想       6169\n",
       "HTC      2699\n",
       "索尼       1572\n",
       "Name: phone_brand, dtype: int64"
      ]
     },
     "execution_count": 67,
     "metadata": {},
     "output_type": "execute_result"
    }
   ],
   "source": [
    "G_1['phone_brand'].value_counts().head(10)\n",
    "#Huawei,samsung,mi,oppo,meizu"
   ]
  },
  {
   "cell_type": "code",
   "execution_count": 68,
   "metadata": {},
   "outputs": [
    {
     "data": {
      "text/plain": [
       "华为      75696\n",
       "小米      37711\n",
       "三星      15566\n",
       "vivo    14781\n",
       "魅族      13383\n",
       "OPPO    10825\n",
       "乐视       5601\n",
       "酷派       3946\n",
       "金立       2239\n",
       "中兴       1985\n",
       "Name: phone_brand, dtype: int64"
      ]
     },
     "execution_count": 68,
     "metadata": {},
     "output_type": "execute_result"
    }
   ],
   "source": [
    "G_2['phone_brand'].value_counts().head(10)\n",
    "#Huawei,mi,samsung,meizu,vivo"
   ]
  },
  {
   "cell_type": "code",
   "execution_count": 69,
   "metadata": {},
   "outputs": [
    {
     "data": {
      "text/plain": [
       "华为      59083\n",
       "小米      50706\n",
       "三星      35746\n",
       "魅族      23330\n",
       "OPPO    22425\n",
       "酷派      11576\n",
       "vivo    10523\n",
       "乐视       5986\n",
       "联想       5236\n",
       "金立       2624\n",
       "Name: phone_brand, dtype: int64"
      ]
     },
     "execution_count": 69,
     "metadata": {},
     "output_type": "execute_result"
    }
   ],
   "source": [
    "G_3['phone_brand'].value_counts().head(10)\n",
    "#Huawei,mi,samsung,oppo,meizu"
   ]
  },
  {
   "cell_type": "code",
   "execution_count": 70,
   "metadata": {},
   "outputs": [
    {
     "data": {
      "text/plain": [
       "<matplotlib.axes._subplots.AxesSubplot at 0x1c790609688>"
      ]
     },
     "execution_count": 70,
     "metadata": {},
     "output_type": "execute_result"
    },
    {
     "data": {
      "image/png": "[encoded data removed]",
      "text/plain": [
       "<Figure size 432x288 with 1 Axes>"
      ]
     },
     "metadata": {
      "needs_background": "light"
     },
     "output_type": "display_data"
    }
   ],
   "source": [
    "G_1.group.value_counts().sort_index(ascending=False).plot(kind='bar')"
   ]
  },
  {
   "cell_type": "code",
   "execution_count": 71,
   "metadata": {},
   "outputs": [
    {
     "data": {
      "text/plain": [
       "<matplotlib.axes._subplots.AxesSubplot at 0x1c7e7cd12c8>"
      ]
     },
     "execution_count": 71,
     "metadata": {},
     "output_type": "execute_result"
    },
    {
     "data": {
      "image/png": "[encoded data removed]",
      "text/plain": [
       "<Figure size 432x288 with 1 Axes>"
      ]
     },
     "metadata": {
      "needs_background": "light"
     },
     "output_type": "display_data"
    }
   ],
   "source": [
    "G_2.group.value_counts().sort_index(ascending=False).plot(kind='bar')"
   ]
  },
  {
   "cell_type": "code",
   "execution_count": 72,
   "metadata": {},
   "outputs": [
    {
     "data": {
      "text/plain": [
       "<matplotlib.axes._subplots.AxesSubplot at 0x1c7ea8ac108>"
      ]
     },
     "execution_count": 72,
     "metadata": {},
     "output_type": "execute_result"
    },
    {
     "data": {
      "image/png": "[encoded data removed]",
      "text/plain": [
       "<Figure size 432x288 with 1 Axes>"
      ]
     },
     "metadata": {
      "needs_background": "light"
     },
     "output_type": "display_data"
    }
   ],
   "source": [
    "G_3.group.value_counts().sort_index(ascending=False).plot(kind='bar')"
   ]
  },
  {
   "cell_type": "markdown",
   "metadata": {},
   "source": [
    "* Lets try KPrototypes algo, Its a combination of K-Means and K-Modes for clustering mixed attributes\n",
    "This will take time to execute"
   ]
  },
  {
   "cell_type": "code",
   "execution_count": 75,
   "metadata": {},
   "outputs": [],
   "source": [
    "from kmodes.kprototypes import KPrototypes"
   ]
  },
  {
   "cell_type": "code",
   "execution_count": 80,
   "metadata": {},
   "outputs": [
    {
     "name": "stdout",
     "output_type": "stream",
     "text": [
      "Best run was number 49\n"
     ]
    }
   ],
   "source": [
    "kproto = KPrototypes(n_clusters=5, init='Cao', verbose=2, random_state=22,n_jobs=5,max_iter=10,n_init=50)\n",
    "clusters = kproto.fit_predict(data_cluster,categorical=[2,3,6,7,8,9])"
   ]
  },
  {
   "cell_type": "code",
   "execution_count": 82,
   "metadata": {},
   "outputs": [
    {
     "data": {
      "text/plain": [
       "(array([0, 1, 2, 3, 4], dtype=uint16),\n",
       " array([151301, 107736, 118717,  92632, 141474], dtype=int64))"
      ]
     },
     "execution_count": 82,
     "metadata": {},
     "output_type": "execute_result"
    }
   ],
   "source": [
    "np.unique(kproto.labels_, return_counts=True)\n",
    "#Do profiling of each cluster as done above in other model iteration"
   ]
  },
  {
   "cell_type": "code",
   "execution_count": null,
   "metadata": {},
   "outputs": [],
   "source": [
    "# try hierarchical clustering- agglomerative clustering:bottom-up approach\n",
    "# Play with affinity & linkage parameter\n",
    "from sklearn.cluster import AgglomerativeClustering\n",
    "\n",
    "cluster = AgglomerativeClustering(n_clusters=5, affinity='manhattan', linkage='average')\n",
    "cluster.fit_predict(reduced_data)"
   ]
  },
  {
   "cell_type": "code",
   "execution_count": null,
   "metadata": {},
   "outputs": [],
   "source": [
    "#This method will work in case of many continious numeric variables. So we will not run it here.\n",
    "# Please refer https://scikit-learn.org/stable/modules/clustering.html for details\n",
    "#mean shift\n",
    "from sklearn.cluster import MeanShift\n",
    "mshift = MeanShift(bandwidth=25, n_init > 1)"
   ]
  },
  {
   "cell_type": "code",
   "execution_count": null,
   "metadata": {},
   "outputs": [],
   "source": [
    "cluster_mean = mshift.fit(features_scaled)"
   ]
  },
  {
   "cell_type": "markdown",
   "metadata": {},
   "source": [
    "*Conclusion:\n",
    "Based on the data from clusters we can see that there are 3 clusters with totally different spread of users. \n",
    "\n",
    "As we can see in the cluster 1 & 3, people around age 30 & above have the highest presence. In cluster 2, there are almost nil Females population, based on that the most exclusive apps/plans should be directly promoted to people in that group. \n",
    "\n",
    "Gender to target in this group is of course: Male above 30 Years. They have equally distributed in all clusters.\n",
    "\n",
    "To get clear differentiation, we need to get more data diamensions."
   ]
  }
 ],
 "metadata": {
  "kernelspec": {
   "display_name": "Python 3",
   "language": "python",
   "name": "python3"
  },
  "language_info": {
   "codemirror_mode": {
    "name": "ipython",
    "version": 3
   },
   "file_extension": ".py",
   "mimetype": "text/x-python",
   "name": "python",
   "nbconvert_exporter": "python",
   "pygments_lexer": "ipython3",
   "version": "3.7.6"
  }
 },
 "nbformat": 4,
 "nbformat_minor": 4
}
